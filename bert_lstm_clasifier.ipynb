{
 "cells": [
  {
   "cell_type": "markdown",
   "source": [
    "# Importing Necessary Libraries"
   ],
   "metadata": {
    "id": "_ojSZ5hvYnvV"
   }
  },
  {
   "cell_type": "code",
   "execution_count": 2,
   "source": [
    "! pip install tensorflow==1.15"
   ],
   "outputs": [
    {
     "output_type": "stream",
     "name": "stdout",
     "text": [
      "Collecting tensorflow==1.15\n",
      "  Using cached tensorflow-1.15.0-cp37-cp37m-manylinux2010_x86_64.whl (412.3 MB)\n",
      "Requirement already satisfied: grpcio>=1.8.6 in /home/komleva/anaconda3/envs/torchtext/lib/python3.7/site-packages (from tensorflow==1.15) (1.44.0)\n",
      "Requirement already satisfied: opt-einsum>=2.3.2 in /home/komleva/anaconda3/envs/torchtext/lib/python3.7/site-packages (from tensorflow==1.15) (3.3.0)\n",
      "Requirement already satisfied: numpy<2.0,>=1.16.0 in /home/komleva/anaconda3/envs/torchtext/lib/python3.7/site-packages (from tensorflow==1.15) (1.18.5)\n",
      "Requirement already satisfied: keras-preprocessing>=1.0.5 in /home/komleva/anaconda3/envs/torchtext/lib/python3.7/site-packages (from tensorflow==1.15) (1.1.2)\n",
      "Requirement already satisfied: gast==0.2.2 in /home/komleva/anaconda3/envs/torchtext/lib/python3.7/site-packages (from tensorflow==1.15) (0.2.2)\n",
      "Requirement already satisfied: tensorboard<1.16.0,>=1.15.0 in /home/komleva/anaconda3/envs/torchtext/lib/python3.7/site-packages (from tensorflow==1.15) (1.15.0)\n",
      "Requirement already satisfied: keras-applications>=1.0.8 in /home/komleva/anaconda3/envs/torchtext/lib/python3.7/site-packages (from tensorflow==1.15) (1.0.8)\n",
      "Requirement already satisfied: six>=1.10.0 in /home/komleva/anaconda3/envs/torchtext/lib/python3.7/site-packages (from tensorflow==1.15) (1.16.0)\n",
      "Requirement already satisfied: google-pasta>=0.1.6 in /home/komleva/anaconda3/envs/torchtext/lib/python3.7/site-packages (from tensorflow==1.15) (0.2.0)\n",
      "Requirement already satisfied: wrapt>=1.11.1 in /home/komleva/anaconda3/envs/torchtext/lib/python3.7/site-packages (from tensorflow==1.15) (1.14.0)\n",
      "Requirement already satisfied: termcolor>=1.1.0 in /home/komleva/anaconda3/envs/torchtext/lib/python3.7/site-packages (from tensorflow==1.15) (1.1.0)\n",
      "Requirement already satisfied: tensorflow-estimator==1.15.1 in /home/komleva/anaconda3/envs/torchtext/lib/python3.7/site-packages (from tensorflow==1.15) (1.15.1)\n",
      "Requirement already satisfied: protobuf>=3.6.1 in /home/komleva/anaconda3/envs/torchtext/lib/python3.7/site-packages (from tensorflow==1.15) (3.19.4)\n",
      "Requirement already satisfied: wheel>=0.26 in /home/komleva/anaconda3/envs/torchtext/lib/python3.7/site-packages (from tensorflow==1.15) (0.36.2)\n",
      "Requirement already satisfied: absl-py>=0.7.0 in /home/komleva/anaconda3/envs/torchtext/lib/python3.7/site-packages (from tensorflow==1.15) (1.0.0)\n",
      "Requirement already satisfied: astor>=0.6.0 in /home/komleva/anaconda3/envs/torchtext/lib/python3.7/site-packages (from tensorflow==1.15) (0.8.1)\n",
      "Requirement already satisfied: h5py in /home/komleva/anaconda3/envs/torchtext/lib/python3.7/site-packages (from keras-applications>=1.0.8->tensorflow==1.15) (3.6.0)\n",
      "Requirement already satisfied: setuptools>=41.0.0 in /home/komleva/anaconda3/envs/torchtext/lib/python3.7/site-packages (from tensorboard<1.16.0,>=1.15.0->tensorflow==1.15) (52.0.0.post20210125)\n",
      "Requirement already satisfied: werkzeug>=0.11.15 in /home/komleva/anaconda3/envs/torchtext/lib/python3.7/site-packages (from tensorboard<1.16.0,>=1.15.0->tensorflow==1.15) (2.0.3)\n",
      "Requirement already satisfied: markdown>=2.6.8 in /home/komleva/anaconda3/envs/torchtext/lib/python3.7/site-packages (from tensorboard<1.16.0,>=1.15.0->tensorflow==1.15) (3.3.6)\n",
      "Requirement already satisfied: importlib-metadata>=4.4 in /home/komleva/anaconda3/envs/torchtext/lib/python3.7/site-packages (from markdown>=2.6.8->tensorboard<1.16.0,>=1.15.0->tensorflow==1.15) (4.11.2)\n",
      "Requirement already satisfied: zipp>=0.5 in /home/komleva/anaconda3/envs/torchtext/lib/python3.7/site-packages (from importlib-metadata>=4.4->markdown>=2.6.8->tensorboard<1.16.0,>=1.15.0->tensorflow==1.15) (3.7.0)\n",
      "Requirement already satisfied: typing-extensions>=3.6.4 in /home/komleva/anaconda3/envs/torchtext/lib/python3.7/site-packages (from importlib-metadata>=4.4->markdown>=2.6.8->tensorboard<1.16.0,>=1.15.0->tensorflow==1.15) (4.1.1)\n",
      "Requirement already satisfied: cached-property in /home/komleva/anaconda3/envs/torchtext/lib/python3.7/site-packages (from h5py->keras-applications>=1.0.8->tensorflow==1.15) (1.5.2)\n",
      "Installing collected packages: tensorflow\n",
      "  Attempting uninstall: tensorflow\n",
      "    Found existing installation: tensorflow 1.15.4\n",
      "    Uninstalling tensorflow-1.15.4:\n",
      "      Successfully uninstalled tensorflow-1.15.4\n",
      "Successfully installed tensorflow-1.15.0\n"
     ]
    }
   ],
   "metadata": {}
  },
  {
   "cell_type": "code",
   "execution_count": 4,
   "source": [
    "!pip install keras==2.3.1"
   ],
   "outputs": [
    {
     "output_type": "stream",
     "name": "stdout",
     "text": [
      "Collecting keras==2.3.1\n",
      "  Using cached Keras-2.3.1-py2.py3-none-any.whl (377 kB)\n",
      "Requirement already satisfied: keras-applications>=1.0.6 in /home/komleva/anaconda3/envs/torchtext/lib/python3.7/site-packages (from keras==2.3.1) (1.0.8)\n",
      "Requirement already satisfied: keras-preprocessing>=1.0.5 in /home/komleva/anaconda3/envs/torchtext/lib/python3.7/site-packages (from keras==2.3.1) (1.1.2)\n",
      "Requirement already satisfied: pyyaml in /home/komleva/anaconda3/envs/torchtext/lib/python3.7/site-packages (from keras==2.3.1) (6.0)\n",
      "Requirement already satisfied: six>=1.9.0 in /home/komleva/anaconda3/envs/torchtext/lib/python3.7/site-packages (from keras==2.3.1) (1.16.0)\n",
      "Requirement already satisfied: numpy>=1.9.1 in /home/komleva/anaconda3/envs/torchtext/lib/python3.7/site-packages (from keras==2.3.1) (1.18.5)\n",
      "Requirement already satisfied: h5py in /home/komleva/anaconda3/envs/torchtext/lib/python3.7/site-packages (from keras==2.3.1) (3.6.0)\n",
      "Requirement already satisfied: scipy>=0.14 in /home/komleva/anaconda3/envs/torchtext/lib/python3.7/site-packages (from keras==2.3.1) (1.7.3)\n",
      "Requirement already satisfied: cached-property in /home/komleva/anaconda3/envs/torchtext/lib/python3.7/site-packages (from h5py->keras==2.3.1) (1.5.2)\n",
      "Installing collected packages: keras\n",
      "  Attempting uninstall: keras\n",
      "    Found existing installation: keras 2.8.0\n",
      "    Uninstalling keras-2.8.0:\n",
      "      Successfully uninstalled keras-2.8.0\n",
      "Successfully installed keras-2.3.1\n"
     ]
    }
   ],
   "metadata": {}
  },
  {
   "cell_type": "code",
   "execution_count": 81,
   "source": [
    "import pandas as pd\n",
    "import numpy as np\n",
    "np.random.seed(1337)\n",
    "from tensorflow import keras \n",
    "from keras import Sequential\n",
    "from keras.utils import Sequence\n",
    "from tensorflow.keras.utils import Sequence\n",
    "from keras.layers import LSTM, Dense, Masking\n",
    "import numpy as np\n",
    "import keras\n",
    "from keras.utils import np_utils\n",
    "from keras import optimizers\n",
    "from keras.models import Sequential, Model\n",
    "from keras.layers import Embedding, Dense, Input, concatenate, Layer, Lambda, Dropout, Activation\n",
    "import datetime\n",
    "from datetime import datetime\n",
    "from keras.callbacks import ModelCheckpoint, EarlyStopping, Callback, TensorBoard\n",
    "import tensorflow as tf\n",
    "import tensorflow_hub as hub"
   ],
   "outputs": [],
   "metadata": {
    "colab": {
     "base_uri": "https://localhost:8080/",
     "height": 80
    },
    "id": "SlW7YHjGz0o5",
    "outputId": "1120051f-c792-4568-ac1f-f469bf4e4044"
   }
  },
  {
   "cell_type": "markdown",
   "source": [
    "# Loading The Data"
   ],
   "metadata": {
    "id": "3JEJQ70-Ze4X"
   }
  },
  {
   "cell_type": "code",
   "execution_count": 108,
   "source": [
    "train_raw = pd.read_csv('train_6128.csv')\n",
    "test_raw = pd.read_csv('test_1532.csv')\n",
    "train_raw = pd.concat([train_raw, test_raw])\n",
    "train_raw.head()"
   ],
   "outputs": [
    {
     "output_type": "execute_result",
     "data": {
      "text/plain": [
       "   Unnamed: 0                                               Text MLclass\n",
       "0        5860  1\\r\\ni SUPPLIES & SOLUTIONS FOR INDUSTRY\\r\\nww...  single\n",
       "1        6007  \\r\\nC. BEAN TRANSPORT, INC.\\r\\n(VAN DIVISION)\\...  single\n",
       "2        1192  support@almo.com Tuesday, June 10, 2014 1:46 P...  single\n",
       "3        6214  1\\r\\nMuller Martini 456 Wheeler Rd Hauppauge, ...  single\n",
       "4        4231  INVOICE\\r\\nAndrews\\r\\nAndrews Paperboard, Inc....  single"
      ],
      "text/html": [
       "<div>\n",
       "<style scoped>\n",
       "    .dataframe tbody tr th:only-of-type {\n",
       "        vertical-align: middle;\n",
       "    }\n",
       "\n",
       "    .dataframe tbody tr th {\n",
       "        vertical-align: top;\n",
       "    }\n",
       "\n",
       "    .dataframe thead th {\n",
       "        text-align: right;\n",
       "    }\n",
       "</style>\n",
       "<table border=\"1\" class=\"dataframe\">\n",
       "  <thead>\n",
       "    <tr style=\"text-align: right;\">\n",
       "      <th></th>\n",
       "      <th>Unnamed: 0</th>\n",
       "      <th>Text</th>\n",
       "      <th>MLclass</th>\n",
       "    </tr>\n",
       "  </thead>\n",
       "  <tbody>\n",
       "    <tr>\n",
       "      <th>0</th>\n",
       "      <td>5860</td>\n",
       "      <td>1\\r\\ni SUPPLIES &amp; SOLUTIONS FOR INDUSTRY\\r\\nww...</td>\n",
       "      <td>single</td>\n",
       "    </tr>\n",
       "    <tr>\n",
       "      <th>1</th>\n",
       "      <td>6007</td>\n",
       "      <td>\\r\\nC. BEAN TRANSPORT, INC.\\r\\n(VAN DIVISION)\\...</td>\n",
       "      <td>single</td>\n",
       "    </tr>\n",
       "    <tr>\n",
       "      <th>2</th>\n",
       "      <td>1192</td>\n",
       "      <td>support@almo.com Tuesday, June 10, 2014 1:46 P...</td>\n",
       "      <td>single</td>\n",
       "    </tr>\n",
       "    <tr>\n",
       "      <th>3</th>\n",
       "      <td>6214</td>\n",
       "      <td>1\\r\\nMuller Martini 456 Wheeler Rd Hauppauge, ...</td>\n",
       "      <td>single</td>\n",
       "    </tr>\n",
       "    <tr>\n",
       "      <th>4</th>\n",
       "      <td>4231</td>\n",
       "      <td>INVOICE\\r\\nAndrews\\r\\nAndrews Paperboard, Inc....</td>\n",
       "      <td>single</td>\n",
       "    </tr>\n",
       "  </tbody>\n",
       "</table>\n",
       "</div>"
      ]
     },
     "metadata": {},
     "execution_count": 108
    }
   ],
   "metadata": {
    "colab": {
     "base_uri": "https://localhost:8080/",
     "height": 428
    },
    "id": "82TK3tDYzpqm",
    "outputId": "af1cc890-7712-44ed-be0d-b30a10b4b081"
   }
  },
  {
   "cell_type": "code",
   "execution_count": 109,
   "source": [
    "train_raw.sort_values(\"Text\", inplace = True)\n",
    " \n",
    "# dropping ALL duplicate values\n",
    "train_raw.drop_duplicates(subset =\"Text\",keep = False, inplace = True)"
   ],
   "outputs": [],
   "metadata": {}
  },
  {
   "cell_type": "code",
   "execution_count": 110,
   "source": [
    "train_raw.shape"
   ],
   "outputs": [
    {
     "output_type": "execute_result",
     "data": {
      "text/plain": [
       "(4702, 3)"
      ]
     },
     "metadata": {},
     "execution_count": 110
    }
   ],
   "metadata": {
    "colab": {
     "base_uri": "https://localhost:8080/",
     "height": 34
    },
    "id": "S6kyJH661det",
    "outputId": "6ab0745a-f50b-43fa-b0a8-ad44a9e6dffc"
   }
  },
  {
   "cell_type": "markdown",
   "source": [
    "# Preprocessing Data"
   ],
   "metadata": {
    "id": "-Hr1v_VoZqws"
   }
  },
  {
   "cell_type": "markdown",
   "source": [
    "Select non null:"
   ],
   "metadata": {
    "id": "wbxSBv8m6XaR"
   }
  },
  {
   "cell_type": "code",
   "execution_count": 111,
   "source": [
    "train_raw = train_raw[train_raw.Text.notnull()]\n",
    "train_raw.shape"
   ],
   "outputs": [
    {
     "output_type": "execute_result",
     "data": {
      "text/plain": [
       "(4701, 3)"
      ]
     },
     "metadata": {},
     "execution_count": 111
    }
   ],
   "metadata": {
    "colab": {
     "base_uri": "https://localhost:8080/",
     "height": 34
    },
    "id": "wmb8-t51zx0n",
    "outputId": "5156b4fd-d78f-43e2-ca3a-37c0bc20e8b3"
   }
  },
  {
   "cell_type": "code",
   "execution_count": 112,
   "source": [
    "train_raw.Text.apply(lambda x: len(x.split())).plot(kind='hist')"
   ],
   "outputs": [
    {
     "output_type": "execute_result",
     "data": {
      "text/plain": [
       "<AxesSubplot:ylabel='Frequency'>"
      ]
     },
     "metadata": {},
     "execution_count": 112
    }
   ],
   "metadata": {
    "colab": {
     "base_uri": "https://localhost:8080/",
     "height": 282
    },
    "id": "pAMdnQBv1qlC",
    "outputId": "b0cad918-406f-484e-a922-695ce9c01ab3"
   }
  },
  {
   "cell_type": "code",
   "execution_count": 113,
   "source": [
    "train_raw['len_txt'] =train_raw.Text.apply(lambda x: len(x.split()))\n",
    "train_raw.describe()"
   ],
   "outputs": [
    {
     "output_type": "execute_result",
     "data": {
      "text/plain": [
       "        Unnamed: 0      len_txt\n",
       "count  4701.000000  4701.000000\n",
       "mean   4071.061051   190.693469\n",
       "std    2129.833330    99.931765\n",
       "min       0.000000     1.000000\n",
       "25%    2559.000000   121.000000\n",
       "50%    4318.000000   174.000000\n",
       "75%    5725.000000   244.000000\n",
       "max    7656.000000  1899.000000"
      ],
      "text/html": [
       "<div>\n",
       "<style scoped>\n",
       "    .dataframe tbody tr th:only-of-type {\n",
       "        vertical-align: middle;\n",
       "    }\n",
       "\n",
       "    .dataframe tbody tr th {\n",
       "        vertical-align: top;\n",
       "    }\n",
       "\n",
       "    .dataframe thead th {\n",
       "        text-align: right;\n",
       "    }\n",
       "</style>\n",
       "<table border=\"1\" class=\"dataframe\">\n",
       "  <thead>\n",
       "    <tr style=\"text-align: right;\">\n",
       "      <th></th>\n",
       "      <th>Unnamed: 0</th>\n",
       "      <th>len_txt</th>\n",
       "    </tr>\n",
       "  </thead>\n",
       "  <tbody>\n",
       "    <tr>\n",
       "      <th>count</th>\n",
       "      <td>4701.000000</td>\n",
       "      <td>4701.000000</td>\n",
       "    </tr>\n",
       "    <tr>\n",
       "      <th>mean</th>\n",
       "      <td>4071.061051</td>\n",
       "      <td>190.693469</td>\n",
       "    </tr>\n",
       "    <tr>\n",
       "      <th>std</th>\n",
       "      <td>2129.833330</td>\n",
       "      <td>99.931765</td>\n",
       "    </tr>\n",
       "    <tr>\n",
       "      <th>min</th>\n",
       "      <td>0.000000</td>\n",
       "      <td>1.000000</td>\n",
       "    </tr>\n",
       "    <tr>\n",
       "      <th>25%</th>\n",
       "      <td>2559.000000</td>\n",
       "      <td>121.000000</td>\n",
       "    </tr>\n",
       "    <tr>\n",
       "      <th>50%</th>\n",
       "      <td>4318.000000</td>\n",
       "      <td>174.000000</td>\n",
       "    </tr>\n",
       "    <tr>\n",
       "      <th>75%</th>\n",
       "      <td>5725.000000</td>\n",
       "      <td>244.000000</td>\n",
       "    </tr>\n",
       "    <tr>\n",
       "      <th>max</th>\n",
       "      <td>7656.000000</td>\n",
       "      <td>1899.000000</td>\n",
       "    </tr>\n",
       "  </tbody>\n",
       "</table>\n",
       "</div>"
      ]
     },
     "metadata": {},
     "execution_count": 113
    }
   ],
   "metadata": {
    "colab": {
     "base_uri": "https://localhost:8080/",
     "height": 297
    },
    "id": "eGyH4kwB0TH6",
    "outputId": "c8117d31-a15b-49f4-d6e0-8e9b905a2c65"
   }
  },
  {
   "cell_type": "code",
   "execution_count": 114,
   "source": [
    "train_raw.shape"
   ],
   "outputs": [
    {
     "output_type": "execute_result",
     "data": {
      "text/plain": [
       "(4701, 4)"
      ]
     },
     "metadata": {},
     "execution_count": 114
    }
   ],
   "metadata": {
    "colab": {
     "base_uri": "https://localhost:8080/",
     "height": 34
    },
    "id": "LqFgGC_TkvyA",
    "outputId": "db5dff6d-862a-45cf-a71c-957c81cb5888"
   }
  },
  {
   "cell_type": "markdown",
   "source": [
    "Select only the row with number of words greater than 250:"
   ],
   "metadata": {
    "id": "SumN633drVVO"
   }
  },
  {
   "cell_type": "code",
   "execution_count": 115,
   "source": [
    "#train_raw = train_raw[train_raw.len_txt >249]\n",
    "#train_raw.shape"
   ],
   "outputs": [],
   "metadata": {
    "colab": {
     "base_uri": "https://localhost:8080/",
     "height": 34
    },
    "id": "maZQzkqv0iFa",
    "outputId": "ceb3600d-cc69-478a-d5a9-b45ce797bd61"
   }
  },
  {
   "cell_type": "markdown",
   "source": [
    "Group similar products"
   ],
   "metadata": {
    "id": "beKGErd96q9p"
   }
  },
  {
   "cell_type": "code",
   "execution_count": 116,
   "source": [
    "for l in np.unique(train_raw['MLclass']):\n",
    "  print(l)"
   ],
   "outputs": [
    {
     "output_type": "stream",
     "name": "stdout",
     "text": [
      "first\n",
      "intermediate\n",
      "last\n",
      "single\n"
     ]
    }
   ],
   "metadata": {
    "colab": {
     "base_uri": "https://localhost:8080/",
     "height": 187
    },
    "id": "4jG9xKs1CJnh",
    "outputId": "57102e86-62ab-4dc0-d4fd-f48020ecf525"
   }
  },
  {
   "cell_type": "code",
   "execution_count": 117,
   "source": [
    "train_raw['MLclass'].value_counts().sort_values(ascending=False).plot(kind='bar')"
   ],
   "outputs": [
    {
     "output_type": "execute_result",
     "data": {
      "text/plain": [
       "<AxesSubplot:ylabel='Frequency'>"
      ]
     },
     "metadata": {},
     "execution_count": 117
    }
   ],
   "metadata": {
    "colab": {
     "base_uri": "https://localhost:8080/",
     "height": 648
    },
    "id": "ISkKV5RX344m",
    "outputId": "225b6441-e028-4983-c10d-cd2a3f45cbc6"
   }
  },
  {
   "cell_type": "code",
   "execution_count": 118,
   "source": [
    "train_raw=train_raw.rename(columns = {'Text':'text', 'MLclass':'label'})\n",
    "train_raw.head()"
   ],
   "outputs": [
    {
     "output_type": "execute_result",
     "data": {
      "text/plain": [
       "      Unnamed: 0                                               text   label  \\\n",
       "287         1103  \\t\\t\\t\\t\\t\\t\\t\\tPRO NUMBER\\t1\\r\\nfRAILER NUMBE...  single   \n",
       "3863        1058  \\t\\t\\t\\t\\t\\r\\nHALOPHANE CORP - S DOBSON 214 OA...  single   \n",
       "2373        7630  \\t\\t\\tInvoice #\\tInv.Date\\tPage\\r\\n< 0 (/)\\tN ...   first   \n",
       "5432        7238  \\t\\tINVOICE * RENEWAL STORAGE *\\t\\t\\t\\t\\tPAGE ...   first   \n",
       "103         4834  \\t3M Invoice\\t\\t\\t\\t\\t\\t\\r\\nPAGE\\t1 OF\\t1\\tPUR...  single   \n",
       "\n",
       "      len_txt  \n",
       "287       164  \n",
       "3863      325  \n",
       "2373      257  \n",
       "5432      321  \n",
       "103       223  "
      ],
      "text/html": [
       "<div>\n",
       "<style scoped>\n",
       "    .dataframe tbody tr th:only-of-type {\n",
       "        vertical-align: middle;\n",
       "    }\n",
       "\n",
       "    .dataframe tbody tr th {\n",
       "        vertical-align: top;\n",
       "    }\n",
       "\n",
       "    .dataframe thead th {\n",
       "        text-align: right;\n",
       "    }\n",
       "</style>\n",
       "<table border=\"1\" class=\"dataframe\">\n",
       "  <thead>\n",
       "    <tr style=\"text-align: right;\">\n",
       "      <th></th>\n",
       "      <th>Unnamed: 0</th>\n",
       "      <th>text</th>\n",
       "      <th>label</th>\n",
       "      <th>len_txt</th>\n",
       "    </tr>\n",
       "  </thead>\n",
       "  <tbody>\n",
       "    <tr>\n",
       "      <th>287</th>\n",
       "      <td>1103</td>\n",
       "      <td>\\t\\t\\t\\t\\t\\t\\t\\tPRO NUMBER\\t1\\r\\nfRAILER NUMBE...</td>\n",
       "      <td>single</td>\n",
       "      <td>164</td>\n",
       "    </tr>\n",
       "    <tr>\n",
       "      <th>3863</th>\n",
       "      <td>1058</td>\n",
       "      <td>\\t\\t\\t\\t\\t\\r\\nHALOPHANE CORP - S DOBSON 214 OA...</td>\n",
       "      <td>single</td>\n",
       "      <td>325</td>\n",
       "    </tr>\n",
       "    <tr>\n",
       "      <th>2373</th>\n",
       "      <td>7630</td>\n",
       "      <td>\\t\\t\\tInvoice #\\tInv.Date\\tPage\\r\\n&lt; 0 (/)\\tN ...</td>\n",
       "      <td>first</td>\n",
       "      <td>257</td>\n",
       "    </tr>\n",
       "    <tr>\n",
       "      <th>5432</th>\n",
       "      <td>7238</td>\n",
       "      <td>\\t\\tINVOICE * RENEWAL STORAGE *\\t\\t\\t\\t\\tPAGE ...</td>\n",
       "      <td>first</td>\n",
       "      <td>321</td>\n",
       "    </tr>\n",
       "    <tr>\n",
       "      <th>103</th>\n",
       "      <td>4834</td>\n",
       "      <td>\\t3M Invoice\\t\\t\\t\\t\\t\\t\\r\\nPAGE\\t1 OF\\t1\\tPUR...</td>\n",
       "      <td>single</td>\n",
       "      <td>223</td>\n",
       "    </tr>\n",
       "  </tbody>\n",
       "</table>\n",
       "</div>"
      ]
     },
     "metadata": {},
     "execution_count": 118
    }
   ],
   "metadata": {
    "colab": {
     "base_uri": "https://localhost:8080/",
     "height": 204
    },
    "id": "CXWBl1Ao4FW4",
    "outputId": "46ba5d89-7497-4f0a-f89c-6f25f9cc85fa"
   }
  },
  {
   "cell_type": "code",
   "execution_count": 119,
   "source": [
    "from sklearn.preprocessing import LabelEncoder\n",
    "\n",
    "LE = LabelEncoder()\n",
    "train_raw['label'] = LE.fit_transform(train_raw['label'])\n",
    "train_raw.head()"
   ],
   "outputs": [
    {
     "output_type": "execute_result",
     "data": {
      "text/plain": [
       "      Unnamed: 0                                               text  label  \\\n",
       "287         1103  \\t\\t\\t\\t\\t\\t\\t\\tPRO NUMBER\\t1\\r\\nfRAILER NUMBE...      3   \n",
       "3863        1058  \\t\\t\\t\\t\\t\\r\\nHALOPHANE CORP - S DOBSON 214 OA...      3   \n",
       "2373        7630  \\t\\t\\tInvoice #\\tInv.Date\\tPage\\r\\n< 0 (/)\\tN ...      0   \n",
       "5432        7238  \\t\\tINVOICE * RENEWAL STORAGE *\\t\\t\\t\\t\\tPAGE ...      0   \n",
       "103         4834  \\t3M Invoice\\t\\t\\t\\t\\t\\t\\r\\nPAGE\\t1 OF\\t1\\tPUR...      3   \n",
       "\n",
       "      len_txt  \n",
       "287       164  \n",
       "3863      325  \n",
       "2373      257  \n",
       "5432      321  \n",
       "103       223  "
      ],
      "text/html": [
       "<div>\n",
       "<style scoped>\n",
       "    .dataframe tbody tr th:only-of-type {\n",
       "        vertical-align: middle;\n",
       "    }\n",
       "\n",
       "    .dataframe tbody tr th {\n",
       "        vertical-align: top;\n",
       "    }\n",
       "\n",
       "    .dataframe thead th {\n",
       "        text-align: right;\n",
       "    }\n",
       "</style>\n",
       "<table border=\"1\" class=\"dataframe\">\n",
       "  <thead>\n",
       "    <tr style=\"text-align: right;\">\n",
       "      <th></th>\n",
       "      <th>Unnamed: 0</th>\n",
       "      <th>text</th>\n",
       "      <th>label</th>\n",
       "      <th>len_txt</th>\n",
       "    </tr>\n",
       "  </thead>\n",
       "  <tbody>\n",
       "    <tr>\n",
       "      <th>287</th>\n",
       "      <td>1103</td>\n",
       "      <td>\\t\\t\\t\\t\\t\\t\\t\\tPRO NUMBER\\t1\\r\\nfRAILER NUMBE...</td>\n",
       "      <td>3</td>\n",
       "      <td>164</td>\n",
       "    </tr>\n",
       "    <tr>\n",
       "      <th>3863</th>\n",
       "      <td>1058</td>\n",
       "      <td>\\t\\t\\t\\t\\t\\r\\nHALOPHANE CORP - S DOBSON 214 OA...</td>\n",
       "      <td>3</td>\n",
       "      <td>325</td>\n",
       "    </tr>\n",
       "    <tr>\n",
       "      <th>2373</th>\n",
       "      <td>7630</td>\n",
       "      <td>\\t\\t\\tInvoice #\\tInv.Date\\tPage\\r\\n&lt; 0 (/)\\tN ...</td>\n",
       "      <td>0</td>\n",
       "      <td>257</td>\n",
       "    </tr>\n",
       "    <tr>\n",
       "      <th>5432</th>\n",
       "      <td>7238</td>\n",
       "      <td>\\t\\tINVOICE * RENEWAL STORAGE *\\t\\t\\t\\t\\tPAGE ...</td>\n",
       "      <td>0</td>\n",
       "      <td>321</td>\n",
       "    </tr>\n",
       "    <tr>\n",
       "      <th>103</th>\n",
       "      <td>4834</td>\n",
       "      <td>\\t3M Invoice\\t\\t\\t\\t\\t\\t\\r\\nPAGE\\t1 OF\\t1\\tPUR...</td>\n",
       "      <td>3</td>\n",
       "      <td>223</td>\n",
       "    </tr>\n",
       "  </tbody>\n",
       "</table>\n",
       "</div>"
      ]
     },
     "metadata": {},
     "execution_count": 119
    }
   ],
   "metadata": {
    "colab": {
     "base_uri": "https://localhost:8080/",
     "height": 204
    },
    "id": "JFckqSM_4Pvr",
    "outputId": "46f83ccc-0d07-406c-a5d7-783c4b308412"
   }
  },
  {
   "cell_type": "code",
   "execution_count": 120,
   "source": [
    "len(np.unique(train_raw['label']))"
   ],
   "outputs": [
    {
     "output_type": "execute_result",
     "data": {
      "text/plain": [
       "4"
      ]
     },
     "metadata": {},
     "execution_count": 120
    }
   ],
   "metadata": {
    "colab": {
     "base_uri": "https://localhost:8080/",
     "height": 34
    },
    "id": "VvAEbfcK40vP",
    "outputId": "1eecd4ae-177d-4578-b3df-adb2f137451f"
   }
  },
  {
   "cell_type": "code",
   "execution_count": 121,
   "source": [
    "train_raw = train_raw[[\"text\", \"label\"]]"
   ],
   "outputs": [],
   "metadata": {}
  },
  {
   "cell_type": "code",
   "execution_count": 122,
   "source": [
    "train_raw.head()"
   ],
   "outputs": [
    {
     "output_type": "execute_result",
     "data": {
      "text/plain": [
       "                                                   text  label\n",
       "287   \\t\\t\\t\\t\\t\\t\\t\\tPRO NUMBER\\t1\\r\\nfRAILER NUMBE...      3\n",
       "3863  \\t\\t\\t\\t\\t\\r\\nHALOPHANE CORP - S DOBSON 214 OA...      3\n",
       "2373  \\t\\t\\tInvoice #\\tInv.Date\\tPage\\r\\n< 0 (/)\\tN ...      0\n",
       "5432  \\t\\tINVOICE * RENEWAL STORAGE *\\t\\t\\t\\t\\tPAGE ...      0\n",
       "103   \\t3M Invoice\\t\\t\\t\\t\\t\\t\\r\\nPAGE\\t1 OF\\t1\\tPUR...      3"
      ],
      "text/html": [
       "<div>\n",
       "<style scoped>\n",
       "    .dataframe tbody tr th:only-of-type {\n",
       "        vertical-align: middle;\n",
       "    }\n",
       "\n",
       "    .dataframe tbody tr th {\n",
       "        vertical-align: top;\n",
       "    }\n",
       "\n",
       "    .dataframe thead th {\n",
       "        text-align: right;\n",
       "    }\n",
       "</style>\n",
       "<table border=\"1\" class=\"dataframe\">\n",
       "  <thead>\n",
       "    <tr style=\"text-align: right;\">\n",
       "      <th></th>\n",
       "      <th>text</th>\n",
       "      <th>label</th>\n",
       "    </tr>\n",
       "  </thead>\n",
       "  <tbody>\n",
       "    <tr>\n",
       "      <th>287</th>\n",
       "      <td>\\t\\t\\t\\t\\t\\t\\t\\tPRO NUMBER\\t1\\r\\nfRAILER NUMBE...</td>\n",
       "      <td>3</td>\n",
       "    </tr>\n",
       "    <tr>\n",
       "      <th>3863</th>\n",
       "      <td>\\t\\t\\t\\t\\t\\r\\nHALOPHANE CORP - S DOBSON 214 OA...</td>\n",
       "      <td>3</td>\n",
       "    </tr>\n",
       "    <tr>\n",
       "      <th>2373</th>\n",
       "      <td>\\t\\t\\tInvoice #\\tInv.Date\\tPage\\r\\n&lt; 0 (/)\\tN ...</td>\n",
       "      <td>0</td>\n",
       "    </tr>\n",
       "    <tr>\n",
       "      <th>5432</th>\n",
       "      <td>\\t\\tINVOICE * RENEWAL STORAGE *\\t\\t\\t\\t\\tPAGE ...</td>\n",
       "      <td>0</td>\n",
       "    </tr>\n",
       "    <tr>\n",
       "      <th>103</th>\n",
       "      <td>\\t3M Invoice\\t\\t\\t\\t\\t\\t\\r\\nPAGE\\t1 OF\\t1\\tPUR...</td>\n",
       "      <td>3</td>\n",
       "    </tr>\n",
       "  </tbody>\n",
       "</table>\n",
       "</div>"
      ]
     },
     "metadata": {},
     "execution_count": 122
    }
   ],
   "metadata": {}
  },
  {
   "cell_type": "code",
   "execution_count": 123,
   "source": [
    "train = train_raw.copy()"
   ],
   "outputs": [],
   "metadata": {
    "id": "vjTcB2IElYK-"
   }
  },
  {
   "cell_type": "code",
   "execution_count": 126,
   "source": [
    "\n",
    " train"
   ],
   "outputs": [
    {
     "output_type": "execute_result",
     "data": {
      "text/plain": [
       "                                                   text  label\n",
       "287   \\t\\t\\t\\t\\t\\t\\t\\tPRO NUMBER\\t1\\r\\nfRAILER NUMBE...      3\n",
       "3863  \\t\\t\\t\\t\\t\\r\\nHALOPHANE CORP - S DOBSON 214 OA...      3\n",
       "2373  \\t\\t\\tInvoice #\\tInv.Date\\tPage\\r\\n< 0 (/)\\tN ...      0\n",
       "5432  \\t\\tINVOICE * RENEWAL STORAGE *\\t\\t\\t\\t\\tPAGE ...      0\n",
       "103   \\t3M Invoice\\t\\t\\t\\t\\t\\t\\r\\nPAGE\\t1 OF\\t1\\tPUR...      3\n",
       "...                                                 ...    ...\n",
       "239   ■CUSTOMERS AGREE TO THE GENERAL STONEPEAK CERA...      3\n",
       "5904  ■n DCKERLUlfD 1 EfD U S'TRIE S comp my\\r\\n^Qce...      3\n",
       "1488  ■worcH\\r\\nMALIN\\r\\n. RAVMOND...\\r\\nN.J. Malin ...      3\n",
       "1205  ■■■\\r\\n■ IlM\\r\\n■Mtu\\r\\nVALASSIS COMMUNICATION...      3\n",
       "1113  ▲ Iron Mountain*\\r\\n1000 Campus Dr Collegevill...      0\n",
       "\n",
       "[4701 rows x 2 columns]"
      ],
      "text/html": [
       "<div>\n",
       "<style scoped>\n",
       "    .dataframe tbody tr th:only-of-type {\n",
       "        vertical-align: middle;\n",
       "    }\n",
       "\n",
       "    .dataframe tbody tr th {\n",
       "        vertical-align: top;\n",
       "    }\n",
       "\n",
       "    .dataframe thead th {\n",
       "        text-align: right;\n",
       "    }\n",
       "</style>\n",
       "<table border=\"1\" class=\"dataframe\">\n",
       "  <thead>\n",
       "    <tr style=\"text-align: right;\">\n",
       "      <th></th>\n",
       "      <th>text</th>\n",
       "      <th>label</th>\n",
       "    </tr>\n",
       "  </thead>\n",
       "  <tbody>\n",
       "    <tr>\n",
       "      <th>287</th>\n",
       "      <td>\\t\\t\\t\\t\\t\\t\\t\\tPRO NUMBER\\t1\\r\\nfRAILER NUMBE...</td>\n",
       "      <td>3</td>\n",
       "    </tr>\n",
       "    <tr>\n",
       "      <th>3863</th>\n",
       "      <td>\\t\\t\\t\\t\\t\\r\\nHALOPHANE CORP - S DOBSON 214 OA...</td>\n",
       "      <td>3</td>\n",
       "    </tr>\n",
       "    <tr>\n",
       "      <th>2373</th>\n",
       "      <td>\\t\\t\\tInvoice #\\tInv.Date\\tPage\\r\\n&lt; 0 (/)\\tN ...</td>\n",
       "      <td>0</td>\n",
       "    </tr>\n",
       "    <tr>\n",
       "      <th>5432</th>\n",
       "      <td>\\t\\tINVOICE * RENEWAL STORAGE *\\t\\t\\t\\t\\tPAGE ...</td>\n",
       "      <td>0</td>\n",
       "    </tr>\n",
       "    <tr>\n",
       "      <th>103</th>\n",
       "      <td>\\t3M Invoice\\t\\t\\t\\t\\t\\t\\r\\nPAGE\\t1 OF\\t1\\tPUR...</td>\n",
       "      <td>3</td>\n",
       "    </tr>\n",
       "    <tr>\n",
       "      <th>...</th>\n",
       "      <td>...</td>\n",
       "      <td>...</td>\n",
       "    </tr>\n",
       "    <tr>\n",
       "      <th>239</th>\n",
       "      <td>■CUSTOMERS AGREE TO THE GENERAL STONEPEAK CERA...</td>\n",
       "      <td>3</td>\n",
       "    </tr>\n",
       "    <tr>\n",
       "      <th>5904</th>\n",
       "      <td>■n DCKERLUlfD 1 EfD U S'TRIE S comp my\\r\\n^Qce...</td>\n",
       "      <td>3</td>\n",
       "    </tr>\n",
       "    <tr>\n",
       "      <th>1488</th>\n",
       "      <td>■worcH\\r\\nMALIN\\r\\n. RAVMOND...\\r\\nN.J. Malin ...</td>\n",
       "      <td>3</td>\n",
       "    </tr>\n",
       "    <tr>\n",
       "      <th>1205</th>\n",
       "      <td>■■■\\r\\n■ IlM\\r\\n■Mtu\\r\\nVALASSIS COMMUNICATION...</td>\n",
       "      <td>3</td>\n",
       "    </tr>\n",
       "    <tr>\n",
       "      <th>1113</th>\n",
       "      <td>▲ Iron Mountain*\\r\\n1000 Campus Dr Collegevill...</td>\n",
       "      <td>0</td>\n",
       "    </tr>\n",
       "  </tbody>\n",
       "</table>\n",
       "<p>4701 rows × 2 columns</p>\n",
       "</div>"
      ]
     },
     "metadata": {},
     "execution_count": 126
    }
   ],
   "metadata": {}
  },
  {
   "cell_type": "code",
   "execution_count": 131,
   "source": [
    "train = train.reset_index(drop=True)"
   ],
   "outputs": [],
   "metadata": {}
  },
  {
   "cell_type": "code",
   "execution_count": 132,
   "source": [
    "train = train.reindex(np.random.permutation(train.index))\n",
    "train.head()"
   ],
   "outputs": [
    {
     "output_type": "execute_result",
     "data": {
      "text/plain": [
       "                                                   text  label\n",
       "1572  GJ Westaff\\r\\nPROVIDING ESSENTIAL PEOPLE\\r\\nRe...      3\n",
       "694   AUERITT EXPRESS\\t956 7969313 P.07/20\\r\\nAVERIT...      3\n",
       "1390  Echo Lane, Inc.\\r\\n665 Third Street, Suite 519...      3\n",
       "4334  gettyimages®\\r\\nLine No. Description\\tOrdered ...      1\n",
       "1676  I>i V V-/I<->L_\\r\\nFor Remittance Only:\\tL\\r\\n...      3"
      ],
      "text/html": [
       "<div>\n",
       "<style scoped>\n",
       "    .dataframe tbody tr th:only-of-type {\n",
       "        vertical-align: middle;\n",
       "    }\n",
       "\n",
       "    .dataframe tbody tr th {\n",
       "        vertical-align: top;\n",
       "    }\n",
       "\n",
       "    .dataframe thead th {\n",
       "        text-align: right;\n",
       "    }\n",
       "</style>\n",
       "<table border=\"1\" class=\"dataframe\">\n",
       "  <thead>\n",
       "    <tr style=\"text-align: right;\">\n",
       "      <th></th>\n",
       "      <th>text</th>\n",
       "      <th>label</th>\n",
       "    </tr>\n",
       "  </thead>\n",
       "  <tbody>\n",
       "    <tr>\n",
       "      <th>1572</th>\n",
       "      <td>GJ Westaff\\r\\nPROVIDING ESSENTIAL PEOPLE\\r\\nRe...</td>\n",
       "      <td>3</td>\n",
       "    </tr>\n",
       "    <tr>\n",
       "      <th>694</th>\n",
       "      <td>AUERITT EXPRESS\\t956 7969313 P.07/20\\r\\nAVERIT...</td>\n",
       "      <td>3</td>\n",
       "    </tr>\n",
       "    <tr>\n",
       "      <th>1390</th>\n",
       "      <td>Echo Lane, Inc.\\r\\n665 Third Street, Suite 519...</td>\n",
       "      <td>3</td>\n",
       "    </tr>\n",
       "    <tr>\n",
       "      <th>4334</th>\n",
       "      <td>gettyimages®\\r\\nLine No. Description\\tOrdered ...</td>\n",
       "      <td>1</td>\n",
       "    </tr>\n",
       "    <tr>\n",
       "      <th>1676</th>\n",
       "      <td>I&gt;i V V-/I&lt;-&gt;L_\\r\\nFor Remittance Only:\\tL\\r\\n...</td>\n",
       "      <td>3</td>\n",
       "    </tr>\n",
       "  </tbody>\n",
       "</table>\n",
       "</div>"
      ]
     },
     "metadata": {},
     "execution_count": 132
    }
   ],
   "metadata": {
    "colab": {
     "base_uri": "https://localhost:8080/",
     "height": 204
    },
    "id": "_KSdpULo4vBM",
    "outputId": "fbd5b957-68d9-49fd-dc57-e485fa852c53"
   }
  },
  {
   "cell_type": "markdown",
   "source": [
    "Clean the text columns"
   ],
   "metadata": {
    "id": "CJaaGqEC61Tw"
   }
  },
  {
   "cell_type": "code",
   "execution_count": 133,
   "source": [
    "import re\n",
    "def clean_txt(text):\n",
    "  text = re.sub(\"'\", \"\",text)\n",
    "  text=re.sub(\"(\\\\W)+\",\" \",text)    \n",
    "  return text"
   ],
   "outputs": [],
   "metadata": {
    "id": "lFLkBvrnyKnt"
   }
  },
  {
   "cell_type": "code",
   "execution_count": 134,
   "source": [
    "train['text']  = train.text.apply(clean_txt)\n",
    "train.head()"
   ],
   "outputs": [
    {
     "output_type": "execute_result",
     "data": {
      "text/plain": [
       "                                                   text  label\n",
       "1572  GJ Westaff PROVIDING ESSENTIAL PEOPLE Remit To...      3\n",
       "694   AUERITT EXPRESS 956 7969313 P 07 20 AVERITT EX...      3\n",
       "1390  Echo Lane Inc 665 Third Street Suite 519 San F...      3\n",
       "4334  gettyimages Line No Description Ordered Unit P...      1\n",
       "1676  I i V V I L_ For Remittance Only L CONVEYORS I...      3"
      ],
      "text/html": [
       "<div>\n",
       "<style scoped>\n",
       "    .dataframe tbody tr th:only-of-type {\n",
       "        vertical-align: middle;\n",
       "    }\n",
       "\n",
       "    .dataframe tbody tr th {\n",
       "        vertical-align: top;\n",
       "    }\n",
       "\n",
       "    .dataframe thead th {\n",
       "        text-align: right;\n",
       "    }\n",
       "</style>\n",
       "<table border=\"1\" class=\"dataframe\">\n",
       "  <thead>\n",
       "    <tr style=\"text-align: right;\">\n",
       "      <th></th>\n",
       "      <th>text</th>\n",
       "      <th>label</th>\n",
       "    </tr>\n",
       "  </thead>\n",
       "  <tbody>\n",
       "    <tr>\n",
       "      <th>1572</th>\n",
       "      <td>GJ Westaff PROVIDING ESSENTIAL PEOPLE Remit To...</td>\n",
       "      <td>3</td>\n",
       "    </tr>\n",
       "    <tr>\n",
       "      <th>694</th>\n",
       "      <td>AUERITT EXPRESS 956 7969313 P 07 20 AVERITT EX...</td>\n",
       "      <td>3</td>\n",
       "    </tr>\n",
       "    <tr>\n",
       "      <th>1390</th>\n",
       "      <td>Echo Lane Inc 665 Third Street Suite 519 San F...</td>\n",
       "      <td>3</td>\n",
       "    </tr>\n",
       "    <tr>\n",
       "      <th>4334</th>\n",
       "      <td>gettyimages Line No Description Ordered Unit P...</td>\n",
       "      <td>1</td>\n",
       "    </tr>\n",
       "    <tr>\n",
       "      <th>1676</th>\n",
       "      <td>I i V V I L_ For Remittance Only L CONVEYORS I...</td>\n",
       "      <td>3</td>\n",
       "    </tr>\n",
       "  </tbody>\n",
       "</table>\n",
       "</div>"
      ]
     },
     "metadata": {},
     "execution_count": 134
    }
   ],
   "metadata": {
    "colab": {
     "base_uri": "https://localhost:8080/",
     "height": 204
    },
    "id": "C4yHuGEayROw",
    "outputId": "000869c2-f3eb-46c1-8aec-cb54a868d372"
   }
  },
  {
   "cell_type": "code",
   "execution_count": 135,
   "source": [
    "from sklearn.model_selection import train_test_split\n",
    "train, val = train_test_split(train, test_size=0.2, random_state=35)\n",
    "train.head()"
   ],
   "outputs": [
    {
     "output_type": "execute_result",
     "data": {
      "text/plain": [
       "                                                   text  label\n",
       "164    VVeritiv feritrv Operating Company elnvoice F...      3\n",
       "3708  SKS Transport Inc 573 W Babcock Avenue Elmhurs...      3\n",
       "2249  Invoice 400 Ahnaip Street Suite 200 Menasha Wl...      3\n",
       "1652  Hiease nemn i o NW5525 PO BOX 1450 MINNEAPOLIS...      3\n",
       "3905  THE SHERWIN WILLIAMS CO 200 SYCAMORE ST STE 11...      3"
      ],
      "text/html": [
       "<div>\n",
       "<style scoped>\n",
       "    .dataframe tbody tr th:only-of-type {\n",
       "        vertical-align: middle;\n",
       "    }\n",
       "\n",
       "    .dataframe tbody tr th {\n",
       "        vertical-align: top;\n",
       "    }\n",
       "\n",
       "    .dataframe thead th {\n",
       "        text-align: right;\n",
       "    }\n",
       "</style>\n",
       "<table border=\"1\" class=\"dataframe\">\n",
       "  <thead>\n",
       "    <tr style=\"text-align: right;\">\n",
       "      <th></th>\n",
       "      <th>text</th>\n",
       "      <th>label</th>\n",
       "    </tr>\n",
       "  </thead>\n",
       "  <tbody>\n",
       "    <tr>\n",
       "      <th>164</th>\n",
       "      <td>VVeritiv feritrv Operating Company elnvoice F...</td>\n",
       "      <td>3</td>\n",
       "    </tr>\n",
       "    <tr>\n",
       "      <th>3708</th>\n",
       "      <td>SKS Transport Inc 573 W Babcock Avenue Elmhurs...</td>\n",
       "      <td>3</td>\n",
       "    </tr>\n",
       "    <tr>\n",
       "      <th>2249</th>\n",
       "      <td>Invoice 400 Ahnaip Street Suite 200 Menasha Wl...</td>\n",
       "      <td>3</td>\n",
       "    </tr>\n",
       "    <tr>\n",
       "      <th>1652</th>\n",
       "      <td>Hiease nemn i o NW5525 PO BOX 1450 MINNEAPOLIS...</td>\n",
       "      <td>3</td>\n",
       "    </tr>\n",
       "    <tr>\n",
       "      <th>3905</th>\n",
       "      <td>THE SHERWIN WILLIAMS CO 200 SYCAMORE ST STE 11...</td>\n",
       "      <td>3</td>\n",
       "    </tr>\n",
       "  </tbody>\n",
       "</table>\n",
       "</div>"
      ]
     },
     "metadata": {},
     "execution_count": 135
    }
   ],
   "metadata": {
    "colab": {
     "base_uri": "https://localhost:8080/",
     "height": 204
    },
    "id": "S3EJew8g5cUK",
    "outputId": "5b0fe85f-23df-46ad-f705-776ad8e4d971"
   }
  },
  {
   "cell_type": "code",
   "execution_count": 136,
   "source": [
    "train.reset_index(drop=True, inplace=True)\n",
    "train.head(2)"
   ],
   "outputs": [
    {
     "output_type": "execute_result",
     "data": {
      "text/plain": [
       "                                                text  label\n",
       "0   VVeritiv feritrv Operating Company elnvoice F...      3\n",
       "1  SKS Transport Inc 573 W Babcock Avenue Elmhurs...      3"
      ],
      "text/html": [
       "<div>\n",
       "<style scoped>\n",
       "    .dataframe tbody tr th:only-of-type {\n",
       "        vertical-align: middle;\n",
       "    }\n",
       "\n",
       "    .dataframe tbody tr th {\n",
       "        vertical-align: top;\n",
       "    }\n",
       "\n",
       "    .dataframe thead th {\n",
       "        text-align: right;\n",
       "    }\n",
       "</style>\n",
       "<table border=\"1\" class=\"dataframe\">\n",
       "  <thead>\n",
       "    <tr style=\"text-align: right;\">\n",
       "      <th></th>\n",
       "      <th>text</th>\n",
       "      <th>label</th>\n",
       "    </tr>\n",
       "  </thead>\n",
       "  <tbody>\n",
       "    <tr>\n",
       "      <th>0</th>\n",
       "      <td>VVeritiv feritrv Operating Company elnvoice F...</td>\n",
       "      <td>3</td>\n",
       "    </tr>\n",
       "    <tr>\n",
       "      <th>1</th>\n",
       "      <td>SKS Transport Inc 573 W Babcock Avenue Elmhurs...</td>\n",
       "      <td>3</td>\n",
       "    </tr>\n",
       "  </tbody>\n",
       "</table>\n",
       "</div>"
      ]
     },
     "metadata": {},
     "execution_count": 136
    }
   ],
   "metadata": {
    "colab": {
     "base_uri": "https://localhost:8080/",
     "height": 111
    },
    "id": "2Cr7Ch3_5rnH",
    "outputId": "288d77ec-56c6-4fb5-b780-4216cf1c9f9b"
   }
  },
  {
   "cell_type": "code",
   "execution_count": 137,
   "source": [
    "val.reset_index(drop=True, inplace=True)\n",
    "val.head(2)"
   ],
   "outputs": [
    {
     "output_type": "execute_result",
     "data": {
      "text/plain": [
       "                                                text  label\n",
       "0  Invoice wrh global Americas 24 Worlds Fair Dri...      3\n",
       "1  REMIT TO A TA equipment MUM COMPANY SALES INVO...      3"
      ],
      "text/html": [
       "<div>\n",
       "<style scoped>\n",
       "    .dataframe tbody tr th:only-of-type {\n",
       "        vertical-align: middle;\n",
       "    }\n",
       "\n",
       "    .dataframe tbody tr th {\n",
       "        vertical-align: top;\n",
       "    }\n",
       "\n",
       "    .dataframe thead th {\n",
       "        text-align: right;\n",
       "    }\n",
       "</style>\n",
       "<table border=\"1\" class=\"dataframe\">\n",
       "  <thead>\n",
       "    <tr style=\"text-align: right;\">\n",
       "      <th></th>\n",
       "      <th>text</th>\n",
       "      <th>label</th>\n",
       "    </tr>\n",
       "  </thead>\n",
       "  <tbody>\n",
       "    <tr>\n",
       "      <th>0</th>\n",
       "      <td>Invoice wrh global Americas 24 Worlds Fair Dri...</td>\n",
       "      <td>3</td>\n",
       "    </tr>\n",
       "    <tr>\n",
       "      <th>1</th>\n",
       "      <td>REMIT TO A TA equipment MUM COMPANY SALES INVO...</td>\n",
       "      <td>3</td>\n",
       "    </tr>\n",
       "  </tbody>\n",
       "</table>\n",
       "</div>"
      ]
     },
     "metadata": {},
     "execution_count": 137
    }
   ],
   "metadata": {
    "colab": {
     "base_uri": "https://localhost:8080/",
     "height": 111
    },
    "id": "6-1O5J9G54hV",
    "outputId": "dcc34ce3-2aa4-4c2b-eb27-d23bf4196f6d"
   }
  },
  {
   "cell_type": "code",
   "execution_count": 138,
   "source": [
    "val.shape, train.shape"
   ],
   "outputs": [
    {
     "output_type": "execute_result",
     "data": {
      "text/plain": [
       "((941, 2), (3760, 2))"
      ]
     },
     "metadata": {},
     "execution_count": 138
    }
   ],
   "metadata": {
    "colab": {
     "base_uri": "https://localhost:8080/",
     "height": 34
    },
    "id": "ziIsgHqrz0n6",
    "outputId": "7020b652-4989-41b1-9e32-c83666c6f9ac"
   }
  },
  {
   "cell_type": "code",
   "execution_count": 140,
   "source": [
    "#Importing BERT modules\n",
    "import bert\n",
    "from bert import run_classifier\n",
    "from bert import optimization\n",
    "from bert import tokenization"
   ],
   "outputs": [],
   "metadata": {
    "colab": {
     "base_uri": "https://localhost:8080/",
     "height": 71
    },
    "id": "zTcMyKKl6DdA",
    "outputId": "fc31a0bb-4c45-4b7c-8dc9-752261c06f51"
   }
  },
  {
   "cell_type": "markdown",
   "source": [
    "# Setting The Output Directory for BERT"
   ],
   "metadata": {
    "id": "ej8QOozZbEva"
   }
  },
  {
   "cell_type": "code",
   "execution_count": 141,
   "source": [
    "# Set the output directory for saving model file\n",
    "OUTPUT_DIR = './bert_news_category'\n",
    "\n",
    "#@markdown Whether or not to clear/delete the directory and create a new one\n",
    "DO_DELETE = True #@param {type:\"boolean\"}\n",
    "\n",
    "if DO_DELETE:\n",
    "  try:\n",
    "    tf.gfile.DeleteRecursively(OUTPUT_DIR)\n",
    "  except:\n",
    "    pass\n",
    "\n",
    "tf.gfile.MakeDirs(OUTPUT_DIR)\n",
    "#tf.io.gfile.MakeDirs(OUTPUT_DIR)\n",
    "print('***** Model output directory: {} *****'.format(OUTPUT_DIR))"
   ],
   "outputs": [
    {
     "output_type": "stream",
     "name": "stdout",
     "text": [
      "***** Model output directory: ./bert_news_category *****\n"
     ]
    }
   ],
   "metadata": {
    "colab": {
     "base_uri": "https://localhost:8080/",
     "height": 34
    },
    "id": "NNPhIMrr6ra9",
    "outputId": "ffc63c79-3bea-481d-8263-55f3e65decdb"
   }
  },
  {
   "cell_type": "code",
   "execution_count": 142,
   "source": [
    "print(\"Training Set Shape :\", train.shape)\n",
    "print(\"Validation Set Shape :\", val.shape)\n",
    "# print(\"Test Set Shape :\", test.shape)"
   ],
   "outputs": [
    {
     "output_type": "stream",
     "name": "stdout",
     "text": [
      "Training Set Shape : (3760, 2)\n",
      "Validation Set Shape : (941, 2)\n"
     ]
    }
   ],
   "metadata": {
    "colab": {
     "base_uri": "https://localhost:8080/",
     "height": 51
    },
    "id": "0YGONt0p60Ay",
    "outputId": "5b986fab-16ed-4613-d2c9-554765ed86bd"
   }
  },
  {
   "cell_type": "code",
   "execution_count": 143,
   "source": [
    "DATA_COLUMN = 'text'\n",
    "LABEL_COLUMN = 'label'\n",
    "# The list containing all the classes (train['SECTION'].unique())\n",
    "label_list = [x for x in np.unique(train.label)]\n",
    "label_list"
   ],
   "outputs": [
    {
     "output_type": "execute_result",
     "data": {
      "text/plain": [
       "[0, 1, 2, 3]"
      ]
     },
     "metadata": {},
     "execution_count": 143
    }
   ],
   "metadata": {
    "colab": {
     "base_uri": "https://localhost:8080/",
     "height": 34
    },
    "id": "s6NYKx4P7N66",
    "outputId": "e7d7aa06-98d7-4d6f-d164-93b721c872e2"
   }
  },
  {
   "cell_type": "markdown",
   "source": [
    "# Splitting the Data into smaller chunks"
   ],
   "metadata": {
    "id": "oOSEd24bbiUq"
   }
  },
  {
   "cell_type": "code",
   "execution_count": 144,
   "source": [
    "def get_split(text1):\n",
    "  l_total = []\n",
    "  l_parcial = []\n",
    "  if len(text1.split())//150 >0:\n",
    "    n = len(text1.split())//150\n",
    "  else: \n",
    "    n = 1\n",
    "  for w in range(n):\n",
    "    if w == 0:\n",
    "      l_parcial = text1.split()[:200]\n",
    "      l_total.append(\" \".join(l_parcial))\n",
    "    else:\n",
    "      l_parcial = text1.split()[w*150:w*150 + 200]\n",
    "      l_total.append(\" \".join(l_parcial))\n",
    "  return l_total"
   ],
   "outputs": [],
   "metadata": {
    "id": "ausf5AlOkPCH"
   }
  },
  {
   "cell_type": "code",
   "execution_count": 145,
   "source": [
    "train['text_split'] = train[DATA_COLUMN].apply(get_split)\n",
    "train.head()"
   ],
   "outputs": [
    {
     "output_type": "execute_result",
     "data": {
      "text/plain": [
       "                                                text  label  \\\n",
       "0   VVeritiv feritrv Operating Company elnvoice F...      3   \n",
       "1  SKS Transport Inc 573 W Babcock Avenue Elmhurs...      3   \n",
       "2  Invoice 400 Ahnaip Street Suite 200 Menasha Wl...      3   \n",
       "3  Hiease nemn i o NW5525 PO BOX 1450 MINNEAPOLIS...      3   \n",
       "4  THE SHERWIN WILLIAMS CO 200 SYCAMORE ST STE 11...      3   \n",
       "\n",
       "                                          text_split  \n",
       "0  [VVeritiv feritrv Operating Company elnvoice F...  \n",
       "1  [SKS Transport Inc 573 W Babcock Avenue Elmhur...  \n",
       "2  [Invoice 400 Ahnaip Street Suite 200 Menasha W...  \n",
       "3  [Hiease nemn i o NW5525 PO BOX 1450 MINNEAPOLI...  \n",
       "4  [THE SHERWIN WILLIAMS CO 200 SYCAMORE ST STE 1...  "
      ],
      "text/html": [
       "<div>\n",
       "<style scoped>\n",
       "    .dataframe tbody tr th:only-of-type {\n",
       "        vertical-align: middle;\n",
       "    }\n",
       "\n",
       "    .dataframe tbody tr th {\n",
       "        vertical-align: top;\n",
       "    }\n",
       "\n",
       "    .dataframe thead th {\n",
       "        text-align: right;\n",
       "    }\n",
       "</style>\n",
       "<table border=\"1\" class=\"dataframe\">\n",
       "  <thead>\n",
       "    <tr style=\"text-align: right;\">\n",
       "      <th></th>\n",
       "      <th>text</th>\n",
       "      <th>label</th>\n",
       "      <th>text_split</th>\n",
       "    </tr>\n",
       "  </thead>\n",
       "  <tbody>\n",
       "    <tr>\n",
       "      <th>0</th>\n",
       "      <td>VVeritiv feritrv Operating Company elnvoice F...</td>\n",
       "      <td>3</td>\n",
       "      <td>[VVeritiv feritrv Operating Company elnvoice F...</td>\n",
       "    </tr>\n",
       "    <tr>\n",
       "      <th>1</th>\n",
       "      <td>SKS Transport Inc 573 W Babcock Avenue Elmhurs...</td>\n",
       "      <td>3</td>\n",
       "      <td>[SKS Transport Inc 573 W Babcock Avenue Elmhur...</td>\n",
       "    </tr>\n",
       "    <tr>\n",
       "      <th>2</th>\n",
       "      <td>Invoice 400 Ahnaip Street Suite 200 Menasha Wl...</td>\n",
       "      <td>3</td>\n",
       "      <td>[Invoice 400 Ahnaip Street Suite 200 Menasha W...</td>\n",
       "    </tr>\n",
       "    <tr>\n",
       "      <th>3</th>\n",
       "      <td>Hiease nemn i o NW5525 PO BOX 1450 MINNEAPOLIS...</td>\n",
       "      <td>3</td>\n",
       "      <td>[Hiease nemn i o NW5525 PO BOX 1450 MINNEAPOLI...</td>\n",
       "    </tr>\n",
       "    <tr>\n",
       "      <th>4</th>\n",
       "      <td>THE SHERWIN WILLIAMS CO 200 SYCAMORE ST STE 11...</td>\n",
       "      <td>3</td>\n",
       "      <td>[THE SHERWIN WILLIAMS CO 200 SYCAMORE ST STE 1...</td>\n",
       "    </tr>\n",
       "  </tbody>\n",
       "</table>\n",
       "</div>"
      ]
     },
     "metadata": {},
     "execution_count": 145
    }
   ],
   "metadata": {
    "colab": {
     "base_uri": "https://localhost:8080/",
     "height": 204
    },
    "id": "E-u6mDkbLpTY",
    "outputId": "972100f3-569c-4a27-a24c-3fb2728d3581"
   }
  },
  {
   "cell_type": "code",
   "execution_count": 146,
   "source": [
    "val['text_split'] = val[DATA_COLUMN].apply(get_split)\n",
    "val.head(2)"
   ],
   "outputs": [
    {
     "output_type": "execute_result",
     "data": {
      "text/plain": [
       "                                                text  label  \\\n",
       "0  Invoice wrh global Americas 24 Worlds Fair Dri...      3   \n",
       "1  REMIT TO A TA equipment MUM COMPANY SALES INVO...      3   \n",
       "\n",
       "                                          text_split  \n",
       "0  [Invoice wrh global Americas 24 Worlds Fair Dr...  \n",
       "1  [REMIT TO A TA equipment MUM COMPANY SALES INV...  "
      ],
      "text/html": [
       "<div>\n",
       "<style scoped>\n",
       "    .dataframe tbody tr th:only-of-type {\n",
       "        vertical-align: middle;\n",
       "    }\n",
       "\n",
       "    .dataframe tbody tr th {\n",
       "        vertical-align: top;\n",
       "    }\n",
       "\n",
       "    .dataframe thead th {\n",
       "        text-align: right;\n",
       "    }\n",
       "</style>\n",
       "<table border=\"1\" class=\"dataframe\">\n",
       "  <thead>\n",
       "    <tr style=\"text-align: right;\">\n",
       "      <th></th>\n",
       "      <th>text</th>\n",
       "      <th>label</th>\n",
       "      <th>text_split</th>\n",
       "    </tr>\n",
       "  </thead>\n",
       "  <tbody>\n",
       "    <tr>\n",
       "      <th>0</th>\n",
       "      <td>Invoice wrh global Americas 24 Worlds Fair Dri...</td>\n",
       "      <td>3</td>\n",
       "      <td>[Invoice wrh global Americas 24 Worlds Fair Dr...</td>\n",
       "    </tr>\n",
       "    <tr>\n",
       "      <th>1</th>\n",
       "      <td>REMIT TO A TA equipment MUM COMPANY SALES INVO...</td>\n",
       "      <td>3</td>\n",
       "      <td>[REMIT TO A TA equipment MUM COMPANY SALES INV...</td>\n",
       "    </tr>\n",
       "  </tbody>\n",
       "</table>\n",
       "</div>"
      ]
     },
     "metadata": {},
     "execution_count": 146
    }
   ],
   "metadata": {
    "colab": {
     "base_uri": "https://localhost:8080/",
     "height": 111
    },
    "id": "-zrlehCFUplB",
    "outputId": "7bd7c47a-adae-418a-c50e-29b2deb3c7d6"
   }
  },
  {
   "cell_type": "code",
   "execution_count": 147,
   "source": [
    "train_l = []\n",
    "label_l = []\n",
    "index_l =[]\n",
    "for idx,row in train.iterrows():\n",
    "  for l in row['text_split']:\n",
    "    train_l.append(l)\n",
    "    label_l.append(row['label'])\n",
    "    index_l.append(idx)\n",
    "len(train_l), len(label_l), len(index_l)"
   ],
   "outputs": [
    {
     "output_type": "execute_result",
     "data": {
      "text/plain": [
       "(4623, 4623, 4623)"
      ]
     },
     "metadata": {},
     "execution_count": 147
    }
   ],
   "metadata": {
    "colab": {
     "base_uri": "https://localhost:8080/",
     "height": 34
    },
    "id": "5_zMerj1VGaM",
    "outputId": "cc839f6a-8be6-40a9-aaa9-29752d8d5fff"
   }
  },
  {
   "cell_type": "code",
   "execution_count": 148,
   "source": [
    "val_l = []\n",
    "val_label_l = []\n",
    "val_index_l = []\n",
    "for idx,row in val.iterrows():\n",
    "  for l in row['text_split']:\n",
    "    val_l.append(l)\n",
    "    val_label_l.append(row['label'])\n",
    "    val_index_l.append(idx)\n",
    "len(val_l), len(val_label_l), len(val_index_l)"
   ],
   "outputs": [
    {
     "output_type": "execute_result",
     "data": {
      "text/plain": [
       "(1154, 1154, 1154)"
      ]
     },
     "metadata": {},
     "execution_count": 148
    }
   ],
   "metadata": {
    "colab": {
     "base_uri": "https://localhost:8080/",
     "height": 34
    },
    "id": "rBrXEaxHVNG4",
    "outputId": "de4dbc34-1fde-4233-a902-ab522cfc9520"
   }
  },
  {
   "cell_type": "markdown",
   "source": [
    "The final dataset for training:"
   ],
   "metadata": {
    "id": "Hu5Sx8Rm0bAj"
   }
  },
  {
   "cell_type": "code",
   "execution_count": 149,
   "source": [
    "train_df = pd.DataFrame({DATA_COLUMN:train_l, LABEL_COLUMN:label_l})\n",
    "train_df.head()"
   ],
   "outputs": [
    {
     "output_type": "execute_result",
     "data": {
      "text/plain": [
       "                                                text  label\n",
       "0  VVeritiv feritrv Operating Company elnvoice FS...      3\n",
       "1  Description References Weight Qty Ordered Qty ...      3\n",
       "2  SKS Transport Inc 573 W Babcock Avenue Elmhurs...      3\n",
       "3  Invoice 400 Ahnaip Street Suite 200 Menasha Wl...      3\n",
       "4  Hiease nemn i o NW5525 PO BOX 1450 MINNEAPOLIS...      3"
      ],
      "text/html": [
       "<div>\n",
       "<style scoped>\n",
       "    .dataframe tbody tr th:only-of-type {\n",
       "        vertical-align: middle;\n",
       "    }\n",
       "\n",
       "    .dataframe tbody tr th {\n",
       "        vertical-align: top;\n",
       "    }\n",
       "\n",
       "    .dataframe thead th {\n",
       "        text-align: right;\n",
       "    }\n",
       "</style>\n",
       "<table border=\"1\" class=\"dataframe\">\n",
       "  <thead>\n",
       "    <tr style=\"text-align: right;\">\n",
       "      <th></th>\n",
       "      <th>text</th>\n",
       "      <th>label</th>\n",
       "    </tr>\n",
       "  </thead>\n",
       "  <tbody>\n",
       "    <tr>\n",
       "      <th>0</th>\n",
       "      <td>VVeritiv feritrv Operating Company elnvoice FS...</td>\n",
       "      <td>3</td>\n",
       "    </tr>\n",
       "    <tr>\n",
       "      <th>1</th>\n",
       "      <td>Description References Weight Qty Ordered Qty ...</td>\n",
       "      <td>3</td>\n",
       "    </tr>\n",
       "    <tr>\n",
       "      <th>2</th>\n",
       "      <td>SKS Transport Inc 573 W Babcock Avenue Elmhurs...</td>\n",
       "      <td>3</td>\n",
       "    </tr>\n",
       "    <tr>\n",
       "      <th>3</th>\n",
       "      <td>Invoice 400 Ahnaip Street Suite 200 Menasha Wl...</td>\n",
       "      <td>3</td>\n",
       "    </tr>\n",
       "    <tr>\n",
       "      <th>4</th>\n",
       "      <td>Hiease nemn i o NW5525 PO BOX 1450 MINNEAPOLIS...</td>\n",
       "      <td>3</td>\n",
       "    </tr>\n",
       "  </tbody>\n",
       "</table>\n",
       "</div>"
      ]
     },
     "metadata": {},
     "execution_count": 149
    }
   ],
   "metadata": {
    "colab": {
     "base_uri": "https://localhost:8080/",
     "height": 204
    },
    "id": "mojRk8kWVVB4",
    "outputId": "95c4ea0f-7800-47b0-fa8a-9005671da2a0"
   }
  },
  {
   "cell_type": "code",
   "execution_count": 150,
   "source": [
    "val_df = pd.DataFrame({DATA_COLUMN:val_l, LABEL_COLUMN:val_label_l})\n",
    "val_df.head()"
   ],
   "outputs": [
    {
     "output_type": "execute_result",
     "data": {
      "text/plain": [
       "                                                text  label\n",
       "0  Invoice wrh global Americas 24 Worlds Fair Dri...      3\n",
       "1  REMIT TO A TA equipment MUM COMPANY SALES INVO...      3\n",
       "2  Breison International Inc 4540 W 160 St Clevel...      3\n",
       "3  BakeryCorp Miami FL 15625 NW 15Th Avenue Miami...      3\n",
       "4  NEXVUE IXPgCT M08f ____ 65 Broad Street Stamfo...      2"
      ],
      "text/html": [
       "<div>\n",
       "<style scoped>\n",
       "    .dataframe tbody tr th:only-of-type {\n",
       "        vertical-align: middle;\n",
       "    }\n",
       "\n",
       "    .dataframe tbody tr th {\n",
       "        vertical-align: top;\n",
       "    }\n",
       "\n",
       "    .dataframe thead th {\n",
       "        text-align: right;\n",
       "    }\n",
       "</style>\n",
       "<table border=\"1\" class=\"dataframe\">\n",
       "  <thead>\n",
       "    <tr style=\"text-align: right;\">\n",
       "      <th></th>\n",
       "      <th>text</th>\n",
       "      <th>label</th>\n",
       "    </tr>\n",
       "  </thead>\n",
       "  <tbody>\n",
       "    <tr>\n",
       "      <th>0</th>\n",
       "      <td>Invoice wrh global Americas 24 Worlds Fair Dri...</td>\n",
       "      <td>3</td>\n",
       "    </tr>\n",
       "    <tr>\n",
       "      <th>1</th>\n",
       "      <td>REMIT TO A TA equipment MUM COMPANY SALES INVO...</td>\n",
       "      <td>3</td>\n",
       "    </tr>\n",
       "    <tr>\n",
       "      <th>2</th>\n",
       "      <td>Breison International Inc 4540 W 160 St Clevel...</td>\n",
       "      <td>3</td>\n",
       "    </tr>\n",
       "    <tr>\n",
       "      <th>3</th>\n",
       "      <td>BakeryCorp Miami FL 15625 NW 15Th Avenue Miami...</td>\n",
       "      <td>3</td>\n",
       "    </tr>\n",
       "    <tr>\n",
       "      <th>4</th>\n",
       "      <td>NEXVUE IXPgCT M08f ____ 65 Broad Street Stamfo...</td>\n",
       "      <td>2</td>\n",
       "    </tr>\n",
       "  </tbody>\n",
       "</table>\n",
       "</div>"
      ]
     },
     "metadata": {},
     "execution_count": 150
    }
   ],
   "metadata": {
    "colab": {
     "base_uri": "https://localhost:8080/",
     "height": 204
    },
    "id": "k_I-ZbSKVmrZ",
    "outputId": "ab55b3b8-5524-4cb3-bb23-a0a10c3a2bf0"
   }
  },
  {
   "cell_type": "markdown",
   "source": [
    "# BERT: Data Preprocessing "
   ],
   "metadata": {
    "id": "og08g7DScPtK"
   }
  },
  {
   "cell_type": "markdown",
   "source": [
    "Process the data for BERT"
   ],
   "metadata": {
    "id": "2PWVomvm7TV5"
   }
  },
  {
   "cell_type": "code",
   "execution_count": 151,
   "source": [
    "train_InputExamples = train_df.apply(lambda x: bert.run_classifier.InputExample(guid=None,\n",
    "                                                                   text_a = x[DATA_COLUMN], \n",
    "                                                                   text_b = None, \n",
    "                                                                   label = x[LABEL_COLUMN]), axis = 1)\n",
    "\n",
    "val_InputExamples = val_df.apply(lambda x: bert.run_classifier.InputExample(guid=None, \n",
    "                                                                   text_a = x[DATA_COLUMN], \n",
    "                                                                   text_b = None, \n",
    "                                                                   label = x[LABEL_COLUMN]), axis = 1)"
   ],
   "outputs": [],
   "metadata": {
    "id": "e-_zLSnh7evE"
   }
  },
  {
   "cell_type": "code",
   "execution_count": 152,
   "source": [
    "train_InputExamples"
   ],
   "outputs": [
    {
     "output_type": "execute_result",
     "data": {
      "text/plain": [
       "0       <bert.run_classifier.InputExample object at 0x...\n",
       "1       <bert.run_classifier.InputExample object at 0x...\n",
       "2       <bert.run_classifier.InputExample object at 0x...\n",
       "3       <bert.run_classifier.InputExample object at 0x...\n",
       "4       <bert.run_classifier.InputExample object at 0x...\n",
       "                              ...                        \n",
       "4618    <bert.run_classifier.InputExample object at 0x...\n",
       "4619    <bert.run_classifier.InputExample object at 0x...\n",
       "4620    <bert.run_classifier.InputExample object at 0x...\n",
       "4621    <bert.run_classifier.InputExample object at 0x...\n",
       "4622    <bert.run_classifier.InputExample object at 0x...\n",
       "Length: 4623, dtype: object"
      ]
     },
     "metadata": {},
     "execution_count": 152
    }
   ],
   "metadata": {
    "colab": {
     "base_uri": "https://localhost:8080/",
     "height": 221
    },
    "id": "UOq7ETNe7zGJ",
    "outputId": "0c86519a-5376-4b21-be65-9c12f99afb6f"
   }
  },
  {
   "cell_type": "code",
   "execution_count": 153,
   "source": [
    "print(\"Row 0 - guid of training set : \", train_InputExamples.iloc[0].guid)\n",
    "print(\"\\n__________\\nRow 0 - text_a of training set : \", train_InputExamples.iloc[0].text_a)\n",
    "print(\"\\n__________\\nRow 0 - text_b of training set : \", train_InputExamples.iloc[0].text_b)\n",
    "print(\"\\n__________\\nRow 0 - label of training set : \", train_InputExamples.iloc[0].label)"
   ],
   "outputs": [
    {
     "output_type": "stream",
     "name": "stdout",
     "text": [
      "Row 0 - guid of training set :  None\n",
      "\n",
      "__________\n",
      "Row 0 - text_a of training set :  VVeritiv feritrv Operating Company elnvoice FSC SGSNA COC 003630 SFI SGS SFI COC 0037 PEFC SGS PEFC COC 0208 VERITIV OPERATING COMPANY 6120 South Gilmore Road Fairfield OH 45014 VALASSIS PO BOX 159 VENDOR FINANCIAL SERVICES WINDSOR CT 06095 0159 Invoice No Invoice Date Account No 579 75477630 05 02 2019 313050 Due Date Total Amount Due Enter Amount Paid 06 01 2019 338 86 VERITIV OPERATING COMPANY 7472 COLLECTION CENTER DRIVE CHICAGO IL 60693 Detach and return this portion with remittance Retain bottom portion for your records S H I P T 0 VALASSIS INSERTS 35955 SCHOOLCRAFT LIVONIA MI 48150 1215 S 0 L D T 0 Invoice No Invoice Date Customer P O Order Date VALASSIS PO BOX 159 VENDOR FINANCIAL SERVICES WINDSOR CT 06095 0159 Page 1 1 Type of Sale WAREHOUSE Terms 579 75477630 05 02 2019 1062167 05 01 2019 NET 30 DAYS Product No Description References Weight Qty Ordered Qty Shipped Unit Meas Unit Price Unit Extended Meas Price GP SALES ORDER NO 75477630 10728024 Discount Allowed On V00294 FLATBACK TAPE 48MMX54 8M 7 2MIL VERITIV TUFFLEX FB720 PAPER BRWN 24 CS 47 00 Discount Discount Shipment Date Amount Date Time Total Weight Subtotal\n",
      "\n",
      "__________\n",
      "Row 0 - text_b of training set :  None\n",
      "\n",
      "__________\n",
      "Row 0 - label of training set :  3\n"
     ]
    }
   ],
   "metadata": {
    "colab": {
     "base_uri": "https://localhost:8080/",
     "height": 207
    },
    "id": "d0E8U0OQ8VW6",
    "outputId": "0934f3f9-f7ae-44dc-fbef-4e038c8bb99a"
   }
  },
  {
   "cell_type": "markdown",
   "source": [
    "# BERT: Loading the pre-trained model"
   ],
   "metadata": {
    "id": "SoIt5AHadACM"
   }
  },
  {
   "cell_type": "code",
   "execution_count": 154,
   "source": [
    "\n",
    "# This is a path to an uncased (all lowercase) version of BERT\n",
    "BERT_MODEL_HUB = \"https://tfhub.dev/google/bert_uncased_L-12_H-768_A-12/1\"\n",
    "\n",
    "def create_tokenizer_from_hub_module():\n",
    "  \"\"\"Get the vocab file and casing info from the Hub module.\"\"\"\n",
    "  with tf.Graph().as_default():\n",
    "    bert_module = hub.Module(BERT_MODEL_HUB)\n",
    "    tokenization_info = bert_module(signature=\"tokenization_info\", as_dict=True)\n",
    "    with tf.Session() as sess:\n",
    "      vocab_file, do_lower_case = sess.run([tokenization_info[\"vocab_file\"],\n",
    "                                            tokenization_info[\"do_lower_case\"]])\n",
    "      \n",
    "  return bert.tokenization.FullTokenizer(\n",
    "      vocab_file=vocab_file, do_lower_case=do_lower_case)\n",
    "\n",
    "tokenizer = create_tokenizer_from_hub_module()"
   ],
   "outputs": [],
   "metadata": {
    "colab": {
     "base_uri": "https://localhost:8080/",
     "height": 139
    },
    "id": "W4PZ8ogj8ae2",
    "outputId": "26a10fed-e770-41a2-e716-11d5cc7dc2ef"
   }
  },
  {
   "cell_type": "code",
   "execution_count": 155,
   "source": [
    "len(tokenizer.vocab.keys())"
   ],
   "outputs": [
    {
     "output_type": "execute_result",
     "data": {
      "text/plain": [
       "30522"
      ]
     },
     "metadata": {},
     "execution_count": 155
    }
   ],
   "metadata": {
    "colab": {
     "base_uri": "https://localhost:8080/",
     "height": 34
    },
    "id": "qS_ybJmv8lye",
    "outputId": "2c48b73b-eacc-4073-defc-934eaf83a24f"
   }
  },
  {
   "cell_type": "code",
   "execution_count": 156,
   "source": [
    "#Here is what the tokenised sample of the first training set observation looks like\n",
    "print(tokenizer.tokenize(train_InputExamples.iloc[0].text_a))"
   ],
   "outputs": [
    {
     "output_type": "stream",
     "name": "stdout",
     "text": [
      "['v', '##ver', '##iti', '##v', 'fe', '##rit', '##r', '##v', 'operating', 'company', 'el', '##n', '##vo', '##ice', 'f', '##sc', 'sg', '##s', '##na', 'co', '##c', '00', '##36', '##30', 'sf', '##i', 'sg', '##s', 'sf', '##i', 'co', '##c', '00', '##37', 'pe', '##fc', 'sg', '##s', 'pe', '##fc', 'co', '##c', '02', '##0', '##8', 've', '##rit', '##iv', 'operating', 'company', '61', '##20', 'south', 'gilmore', 'road', 'fairfield', 'oh', '450', '##14', 'val', '##ass', '##is', 'po', 'box', '159', 'vendor', 'financial', 'services', 'windsor', 'ct', '06', '##0', '##9', '##5', '01', '##59', 'in', '##vo', '##ice', 'no', 'in', '##vo', '##ice', 'date', 'account', 'no', '57', '##9', '75', '##47', '##7', '##6', '##30', '05', '02', '2019', '313', '##0', '##50', 'due', 'date', 'total', 'amount', 'due', 'enter', 'amount', 'paid', '06', '01', '2019', '338', '86', 've', '##rit', '##iv', 'operating', 'company', '747', '##2', 'collection', 'center', 'drive', 'chicago', 'il', '60', '##6', '##9', '##3', 'det', '##ach', 'and', 'return', 'this', 'portion', 'with', 're', '##mit', '##tance', 'retain', 'bottom', 'portion', 'for', 'your', 'records', 's', 'h', 'i', 'p', 't', '0', 'val', '##ass', '##is', 'insert', '##s', '35', '##9', '##55', 'school', '##craft', 'liv', '##onia', 'mi', '48', '##15', '##0', '121', '##5', 's', '0', 'l', 'd', 't', '0', 'in', '##vo', '##ice', 'no', 'in', '##vo', '##ice', 'date', 'customer', 'p', 'o', 'order', 'date', 'val', '##ass', '##is', 'po', 'box', '159', 'vendor', 'financial', 'services', 'windsor', 'ct', '06', '##0', '##9', '##5', '01', '##59', 'page', '1', '1', 'type', 'of', 'sale', 'warehouse', 'terms', '57', '##9', '75', '##47', '##7', '##6', '##30', '05', '02', '2019', '106', '##21', '##6', '##7', '05', '01', '2019', 'net', '30', 'days', 'product', 'no', 'description', 'references', 'weight', 'q', '##ty', 'ordered', 'q', '##ty', 'shipped', 'unit', 'me', '##as', 'unit', 'price', 'unit', 'extended', 'me', '##as', 'price', 'gp', 'sales', 'order', 'no', '75', '##47', '##7', '##6', '##30', '107', '##28', '##0', '##24', 'discount', 'allowed', 'on', 'v', '##00', '##29', '##4', 'flat', '##back', 'tape', '48', '##mm', '##x', '##54', '8', '##m', '7', '2', '##mi', '##l', 've', '##rit', '##iv', 'tu', '##ffle', '##x', 'f', '##b', '##7', '##20', 'paper', 'br', '##wn', '24', 'cs', '47', '00', 'discount', 'discount', 'shipment', 'date', 'amount', 'date', 'time', 'total', 'weight', 'sub', '##to', '##tal']\n"
     ]
    }
   ],
   "metadata": {
    "colab": {
     "base_uri": "https://localhost:8080/",
     "height": 54
    },
    "id": "O6OqoZjv8r27",
    "outputId": "bad53d19-4e97-47cb-ad7c-3781ebb5e303"
   }
  },
  {
   "cell_type": "code",
   "execution_count": 157,
   "source": [
    "#!wget --quiet https://raw.githubusercontent.com/tensorflow/models/master/official/nlp/bert/tokenization.py"
   ],
   "outputs": [],
   "metadata": {}
  },
  {
   "cell_type": "code",
   "execution_count": 158,
   "source": [
    "MAX_SEQ_LENGTH = 200"
   ],
   "outputs": [],
   "metadata": {
    "id": "q87k_orF8vpz"
   }
  },
  {
   "cell_type": "code",
   "execution_count": 159,
   "source": [
    "# Convert our train and validation features to InputFeatures that BERT understands.\n",
    "train_features = bert.run_classifier.convert_examples_to_features(train_InputExamples, label_list, MAX_SEQ_LENGTH, tokenizer)\n",
    "\n",
    "val_features = bert.run_classifier.convert_examples_to_features(val_InputExamples, label_list, MAX_SEQ_LENGTH, tokenizer)"
   ],
   "outputs": [],
   "metadata": {
    "colab": {
     "base_uri": "https://localhost:8080/",
     "height": 1000
    },
    "id": "G_LBy-yy-GSU",
    "outputId": "a1c02dff-0cd3-4ef8-c013-ced8dd6b484f"
   }
  },
  {
   "cell_type": "code",
   "execution_count": 160,
   "source": [
    "! pip install bert-tensorflow==1.0.1"
   ],
   "outputs": [
    {
     "output_type": "stream",
     "name": "stdout",
     "text": [
      "Requirement already satisfied: bert-tensorflow==1.0.1 in /home/komleva/anaconda3/envs/torchtext/lib/python3.7/site-packages (1.0.1)\n",
      "Requirement already satisfied: six in /home/komleva/anaconda3/envs/torchtext/lib/python3.7/site-packages (from bert-tensorflow==1.0.1) (1.16.0)\n"
     ]
    }
   ],
   "metadata": {}
  },
  {
   "cell_type": "code",
   "execution_count": 161,
   "source": [
    "#Example on first observation in the training set\n",
    "print(\"Sentence : \", train_InputExamples.iloc[0].text_a)\n",
    "print(\"-\"*30)\n",
    "print(\"Tokens : \", tokenizer.tokenize(train_InputExamples.iloc[0].text_a))\n",
    "print(\"-\"*30)\n",
    "print(\"Input IDs : \", train_features[0].input_ids)\n",
    "print(\"-\"*30)\n",
    "print(\"Input Masks : \", train_features[0].input_mask)\n",
    "print(\"-\"*30)\n",
    "print(\"Segment IDs : \", train_features[0].segment_ids)"
   ],
   "outputs": [
    {
     "output_type": "stream",
     "name": "stdout",
     "text": [
      "Sentence :  VVeritiv feritrv Operating Company elnvoice FSC SGSNA COC 003630 SFI SGS SFI COC 0037 PEFC SGS PEFC COC 0208 VERITIV OPERATING COMPANY 6120 South Gilmore Road Fairfield OH 45014 VALASSIS PO BOX 159 VENDOR FINANCIAL SERVICES WINDSOR CT 06095 0159 Invoice No Invoice Date Account No 579 75477630 05 02 2019 313050 Due Date Total Amount Due Enter Amount Paid 06 01 2019 338 86 VERITIV OPERATING COMPANY 7472 COLLECTION CENTER DRIVE CHICAGO IL 60693 Detach and return this portion with remittance Retain bottom portion for your records S H I P T 0 VALASSIS INSERTS 35955 SCHOOLCRAFT LIVONIA MI 48150 1215 S 0 L D T 0 Invoice No Invoice Date Customer P O Order Date VALASSIS PO BOX 159 VENDOR FINANCIAL SERVICES WINDSOR CT 06095 0159 Page 1 1 Type of Sale WAREHOUSE Terms 579 75477630 05 02 2019 1062167 05 01 2019 NET 30 DAYS Product No Description References Weight Qty Ordered Qty Shipped Unit Meas Unit Price Unit Extended Meas Price GP SALES ORDER NO 75477630 10728024 Discount Allowed On V00294 FLATBACK TAPE 48MMX54 8M 7 2MIL VERITIV TUFFLEX FB720 PAPER BRWN 24 CS 47 00 Discount Discount Shipment Date Amount Date Time Total Weight Subtotal\n",
      "------------------------------\n",
      "Tokens :  ['v', '##ver', '##iti', '##v', 'fe', '##rit', '##r', '##v', 'operating', 'company', 'el', '##n', '##vo', '##ice', 'f', '##sc', 'sg', '##s', '##na', 'co', '##c', '00', '##36', '##30', 'sf', '##i', 'sg', '##s', 'sf', '##i', 'co', '##c', '00', '##37', 'pe', '##fc', 'sg', '##s', 'pe', '##fc', 'co', '##c', '02', '##0', '##8', 've', '##rit', '##iv', 'operating', 'company', '61', '##20', 'south', 'gilmore', 'road', 'fairfield', 'oh', '450', '##14', 'val', '##ass', '##is', 'po', 'box', '159', 'vendor', 'financial', 'services', 'windsor', 'ct', '06', '##0', '##9', '##5', '01', '##59', 'in', '##vo', '##ice', 'no', 'in', '##vo', '##ice', 'date', 'account', 'no', '57', '##9', '75', '##47', '##7', '##6', '##30', '05', '02', '2019', '313', '##0', '##50', 'due', 'date', 'total', 'amount', 'due', 'enter', 'amount', 'paid', '06', '01', '2019', '338', '86', 've', '##rit', '##iv', 'operating', 'company', '747', '##2', 'collection', 'center', 'drive', 'chicago', 'il', '60', '##6', '##9', '##3', 'det', '##ach', 'and', 'return', 'this', 'portion', 'with', 're', '##mit', '##tance', 'retain', 'bottom', 'portion', 'for', 'your', 'records', 's', 'h', 'i', 'p', 't', '0', 'val', '##ass', '##is', 'insert', '##s', '35', '##9', '##55', 'school', '##craft', 'liv', '##onia', 'mi', '48', '##15', '##0', '121', '##5', 's', '0', 'l', 'd', 't', '0', 'in', '##vo', '##ice', 'no', 'in', '##vo', '##ice', 'date', 'customer', 'p', 'o', 'order', 'date', 'val', '##ass', '##is', 'po', 'box', '159', 'vendor', 'financial', 'services', 'windsor', 'ct', '06', '##0', '##9', '##5', '01', '##59', 'page', '1', '1', 'type', 'of', 'sale', 'warehouse', 'terms', '57', '##9', '75', '##47', '##7', '##6', '##30', '05', '02', '2019', '106', '##21', '##6', '##7', '05', '01', '2019', 'net', '30', 'days', 'product', 'no', 'description', 'references', 'weight', 'q', '##ty', 'ordered', 'q', '##ty', 'shipped', 'unit', 'me', '##as', 'unit', 'price', 'unit', 'extended', 'me', '##as', 'price', 'gp', 'sales', 'order', 'no', '75', '##47', '##7', '##6', '##30', '107', '##28', '##0', '##24', 'discount', 'allowed', 'on', 'v', '##00', '##29', '##4', 'flat', '##back', 'tape', '48', '##mm', '##x', '##54', '8', '##m', '7', '2', '##mi', '##l', 've', '##rit', '##iv', 'tu', '##ffle', '##x', 'f', '##b', '##7', '##20', 'paper', 'br', '##wn', '24', 'cs', '47', '00', 'discount', 'discount', 'shipment', 'date', 'amount', 'date', 'time', 'total', 'weight', 'sub', '##to', '##tal']\n",
      "------------------------------\n",
      "Input IDs :  [101, 1058, 6299, 25090, 2615, 10768, 14778, 2099, 2615, 4082, 2194, 3449, 2078, 6767, 6610, 1042, 11020, 22214, 2015, 2532, 2522, 2278, 4002, 21619, 14142, 16420, 2072, 22214, 2015, 16420, 2072, 2522, 2278, 4002, 24434, 21877, 11329, 22214, 2015, 21877, 11329, 2522, 2278, 6185, 2692, 2620, 2310, 14778, 12848, 4082, 2194, 6079, 11387, 2148, 22999, 2346, 18986, 2821, 10332, 16932, 11748, 12054, 2483, 13433, 3482, 18914, 21431, 3361, 2578, 10064, 14931, 5757, 2692, 2683, 2629, 5890, 28154, 1999, 6767, 6610, 2053, 1999, 6767, 6610, 3058, 4070, 2053, 5401, 2683, 4293, 22610, 2581, 2575, 14142, 5709, 6185, 10476, 22997, 2692, 12376, 2349, 3058, 2561, 3815, 2349, 4607, 3815, 3825, 5757, 5890, 10476, 27908, 6564, 2310, 14778, 12848, 4082, 2194, 25374, 2475, 3074, 2415, 3298, 3190, 6335, 3438, 2575, 2683, 2509, 20010, 6776, 1998, 2709, 2023, 4664, 2007, 2128, 22930, 26897, 9279, 3953, 4664, 2005, 2115, 2636, 1055, 1044, 1045, 1052, 1056, 1014, 11748, 12054, 2483, 19274, 2015, 3486, 2683, 24087, 2082, 10419, 22135, 12488, 2771, 4466, 16068, 2692, 12606, 2629, 1055, 1014, 1048, 1040, 1056, 1014, 1999, 6767, 6610, 2053, 1999, 6767, 6610, 3058, 8013, 1052, 1051, 2344, 3058, 11748, 12054, 2483, 13433, 3482, 18914, 21431, 3361, 2578, 10064, 14931, 102]\n",
      "------------------------------\n",
      "Input Masks :  [1, 1, 1, 1, 1, 1, 1, 1, 1, 1, 1, 1, 1, 1, 1, 1, 1, 1, 1, 1, 1, 1, 1, 1, 1, 1, 1, 1, 1, 1, 1, 1, 1, 1, 1, 1, 1, 1, 1, 1, 1, 1, 1, 1, 1, 1, 1, 1, 1, 1, 1, 1, 1, 1, 1, 1, 1, 1, 1, 1, 1, 1, 1, 1, 1, 1, 1, 1, 1, 1, 1, 1, 1, 1, 1, 1, 1, 1, 1, 1, 1, 1, 1, 1, 1, 1, 1, 1, 1, 1, 1, 1, 1, 1, 1, 1, 1, 1, 1, 1, 1, 1, 1, 1, 1, 1, 1, 1, 1, 1, 1, 1, 1, 1, 1, 1, 1, 1, 1, 1, 1, 1, 1, 1, 1, 1, 1, 1, 1, 1, 1, 1, 1, 1, 1, 1, 1, 1, 1, 1, 1, 1, 1, 1, 1, 1, 1, 1, 1, 1, 1, 1, 1, 1, 1, 1, 1, 1, 1, 1, 1, 1, 1, 1, 1, 1, 1, 1, 1, 1, 1, 1, 1, 1, 1, 1, 1, 1, 1, 1, 1, 1, 1, 1, 1, 1, 1, 1, 1, 1, 1, 1, 1, 1, 1, 1, 1, 1, 1, 1]\n",
      "------------------------------\n",
      "Segment IDs :  [0, 0, 0, 0, 0, 0, 0, 0, 0, 0, 0, 0, 0, 0, 0, 0, 0, 0, 0, 0, 0, 0, 0, 0, 0, 0, 0, 0, 0, 0, 0, 0, 0, 0, 0, 0, 0, 0, 0, 0, 0, 0, 0, 0, 0, 0, 0, 0, 0, 0, 0, 0, 0, 0, 0, 0, 0, 0, 0, 0, 0, 0, 0, 0, 0, 0, 0, 0, 0, 0, 0, 0, 0, 0, 0, 0, 0, 0, 0, 0, 0, 0, 0, 0, 0, 0, 0, 0, 0, 0, 0, 0, 0, 0, 0, 0, 0, 0, 0, 0, 0, 0, 0, 0, 0, 0, 0, 0, 0, 0, 0, 0, 0, 0, 0, 0, 0, 0, 0, 0, 0, 0, 0, 0, 0, 0, 0, 0, 0, 0, 0, 0, 0, 0, 0, 0, 0, 0, 0, 0, 0, 0, 0, 0, 0, 0, 0, 0, 0, 0, 0, 0, 0, 0, 0, 0, 0, 0, 0, 0, 0, 0, 0, 0, 0, 0, 0, 0, 0, 0, 0, 0, 0, 0, 0, 0, 0, 0, 0, 0, 0, 0, 0, 0, 0, 0, 0, 0, 0, 0, 0, 0, 0, 0, 0, 0, 0, 0, 0, 0]\n"
     ]
    }
   ],
   "metadata": {
    "colab": {
     "base_uri": "https://localhost:8080/",
     "height": 190
    },
    "id": "OLkn7RQ8_CV1",
    "outputId": "6de0cd1c-24c1-4cf1-beca-3e02941a8c82"
   }
  },
  {
   "cell_type": "markdown",
   "source": [
    "# BERT: Creating A Multi-Class Classifier Model"
   ],
   "metadata": {
    "id": "piypsrPudMFf"
   }
  },
  {
   "cell_type": "code",
   "execution_count": 162,
   "source": [
    "def create_model(is_predicting, input_ids, input_mask, segment_ids, labels,\n",
    "                 num_labels):\n",
    "  \n",
    "  bert_module = hub.Module(\n",
    "      BERT_MODEL_HUB,\n",
    "      trainable=True)\n",
    "  bert_inputs = dict(\n",
    "      input_ids=input_ids,\n",
    "      input_mask=input_mask,\n",
    "      segment_ids=segment_ids)\n",
    "  bert_outputs = bert_module(\n",
    "      inputs=bert_inputs,\n",
    "      signature=\"tokens\",\n",
    "      as_dict=True)\n",
    "\n",
    "  # Use \"pooled_output\" for classification tasks on an entire sentence.\n",
    "  # Use \"sequence_outputs\" for token-level output.\n",
    "  output_layer = bert_outputs[\"pooled_output\"]\n",
    "  # with tf.Session() as sess:\n",
    "  output_layer1 = bert_outputs[\"pooled_output\"]\n",
    "  # output_layer1 = 999\n",
    "  hidden_size = output_layer.shape[-1].value\n",
    "\n",
    "  # Create our own layer to tune for politeness data.\n",
    "  output_weights = tf.get_variable(\n",
    "      \"output_weights\", [num_labels, hidden_size],\n",
    "      initializer=tf.truncated_normal_initializer(stddev=0.02))\n",
    "\n",
    "  output_bias = tf.get_variable(\n",
    "      \"output_bias\", [num_labels], initializer=tf.zeros_initializer())\n",
    "\n",
    "  with tf.variable_scope(\"loss\"):\n",
    "\n",
    "    # Dropout helps prevent overfitting\n",
    "    output_layer = tf.nn.dropout(output_layer, keep_prob=0.8)\n",
    "\n",
    "    logits = tf.matmul(output_layer, output_weights, transpose_b=True)\n",
    "    logits = tf.nn.bias_add(logits, output_bias)\n",
    "    log_probs = tf.nn.log_softmax(logits, axis=-1)\n",
    "\n",
    "    # Convert labels into one-hot encoding\n",
    "    one_hot_labels = tf.one_hot(labels, depth=num_labels, dtype=tf.float32)\n",
    "\n",
    "    predicted_labels = tf.squeeze(tf.argmax(log_probs, axis=-1, output_type=tf.int32))\n",
    "    # If we're predicting, we want predicted labels and the probabiltiies.\n",
    "    if is_predicting:\n",
    "      return (predicted_labels, log_probs, output_layer1)\n",
    "\n",
    "    # If we're train/eval, compute loss between predicted and actual label\n",
    "    per_example_loss = -tf.reduce_sum(one_hot_labels * log_probs, axis=-1)\n",
    "    loss = tf.reduce_mean(per_example_loss)\n",
    "    return (loss, predicted_labels, log_probs)"
   ],
   "outputs": [],
   "metadata": {
    "id": "TBxxy9s7GCW4"
   }
  },
  {
   "cell_type": "code",
   "execution_count": 163,
   "source": [
    "def model_fn_builder(num_labels, learning_rate, num_train_steps,\n",
    "                     num_warmup_steps):\n",
    "  \"\"\"Returns `model_fn` closure for TPUEstimator.\"\"\"\n",
    "  def model_fn(features, labels, mode, params):  # pylint: disable=unused-argument\n",
    "    \"\"\"The `model_fn` for TPUEstimator.\"\"\"\n",
    "\n",
    "    input_ids = features[\"input_ids\"]\n",
    "    input_mask = features[\"input_mask\"]\n",
    "    segment_ids = features[\"segment_ids\"]\n",
    "    label_ids = features[\"label_ids\"]\n",
    "\n",
    "    is_predicting = (mode == tf.estimator.ModeKeys.PREDICT)\n",
    "    \n",
    "    # TRAIN and EVAL\n",
    "    if not is_predicting:\n",
    "\n",
    "      (loss, predicted_labels, log_probs) = create_model(\n",
    "        is_predicting, input_ids, input_mask, segment_ids, label_ids, num_labels)\n",
    "\n",
    "      train_op = bert.optimization.create_optimizer(\n",
    "          loss, learning_rate, num_train_steps, num_warmup_steps, use_tpu=False)\n",
    "\n",
    "      # Calculate evaluation metrics. \n",
    "      def metric_fn(label_ids, predicted_labels):\n",
    "        accuracy = tf.metrics.accuracy(label_ids, predicted_labels)\n",
    "        true_pos = tf.metrics.true_positives(\n",
    "            label_ids,\n",
    "            predicted_labels)\n",
    "        true_neg = tf.metrics.true_negatives(\n",
    "            label_ids,\n",
    "            predicted_labels)   \n",
    "        false_pos = tf.metrics.false_positives(\n",
    "            label_ids,\n",
    "            predicted_labels)  \n",
    "        false_neg = tf.metrics.false_negatives(\n",
    "            label_ids,\n",
    "            predicted_labels)\n",
    "        \n",
    "        return {\n",
    "            \"eval_accuracy\": accuracy,\n",
    "            \"true_positives\": true_pos,\n",
    "            \"true_negatives\": true_neg,\n",
    "            \"false_positives\": false_pos,\n",
    "            \"false_negatives\": false_neg,\n",
    "            }\n",
    "\n",
    "      eval_metrics = metric_fn(label_ids, predicted_labels)\n",
    "\n",
    "      if mode == tf.estimator.ModeKeys.TRAIN:\n",
    "        return tf.estimator.EstimatorSpec(mode=mode,\n",
    "          loss=loss,\n",
    "          train_op=train_op)\n",
    "      else:\n",
    "          return tf.estimator.EstimatorSpec(mode=mode,\n",
    "            loss=loss,\n",
    "            eval_metric_ops=eval_metrics)\n",
    "    else:\n",
    "      (predicted_labels, log_probs, output_layer) = create_model(\n",
    "        is_predicting, input_ids, input_mask, segment_ids, label_ids, num_labels)\n",
    "      predictions = {\n",
    "          'probabilities': log_probs,\n",
    "          'labels': predicted_labels,\n",
    "          'pooled_output': output_layer\n",
    "      }\n",
    "      return tf.estimator.EstimatorSpec(mode, predictions=predictions)\n",
    "\n",
    "  # Return the actual model function in the closure\n",
    "  return model_fn"
   ],
   "outputs": [],
   "metadata": {
    "id": "rPRB5i1HG8JO"
   }
  },
  {
   "cell_type": "code",
   "execution_count": 164,
   "source": [
    "BATCH_SIZE = 16\n",
    "LEARNING_RATE = 2e-5\n",
    "NUM_TRAIN_EPOCHS = 1.0\n",
    "# Warmup is a period of time where the learning rate is small and gradually increases--usually helps training.\n",
    "WARMUP_PROPORTION = 0.1\n",
    "# Model configs\n",
    "SAVE_CHECKPOINTS_STEPS = 300\n",
    "SAVE_SUMMARY_STEPS = 100\n",
    "\n",
    "# Compute train and warmup steps from batch size\n",
    "num_train_steps = int(len(train_features) / BATCH_SIZE * NUM_TRAIN_EPOCHS)\n",
    "num_warmup_steps = int(num_train_steps * WARMUP_PROPORTION)\n",
    "\n",
    "# Specify output directory and number of checkpoint steps to save\n",
    "run_config = tf.estimator.RunConfig(\n",
    "    model_dir=OUTPUT_DIR,\n",
    "    save_summary_steps=SAVE_SUMMARY_STEPS,\n",
    "    save_checkpoints_steps=SAVE_CHECKPOINTS_STEPS)\n",
    "\n",
    "# Specify output directory and number of checkpoint steps to save\n",
    "run_config = tf.estimator.RunConfig(\n",
    "    model_dir=OUTPUT_DIR,\n",
    "    save_summary_steps=SAVE_SUMMARY_STEPS,\n",
    "    save_checkpoints_steps=SAVE_CHECKPOINTS_STEPS)"
   ],
   "outputs": [],
   "metadata": {
    "id": "fNrvabUFHC79"
   }
  },
  {
   "cell_type": "code",
   "execution_count": 165,
   "source": [
    "num_train_steps, len(label_list)"
   ],
   "outputs": [
    {
     "output_type": "execute_result",
     "data": {
      "text/plain": [
       "(288, 4)"
      ]
     },
     "metadata": {},
     "execution_count": 165
    }
   ],
   "metadata": {
    "colab": {
     "base_uri": "https://localhost:8080/",
     "height": 34
    },
    "id": "xo70COnsHIWE",
    "outputId": "febad872-9d36-443b-b7ed-9202903facae"
   }
  },
  {
   "cell_type": "code",
   "execution_count": 166,
   "source": [
    "#Initializing the model and the estimator\n",
    "model_fn = model_fn_builder(\n",
    "  num_labels=len(label_list),\n",
    "  learning_rate=LEARNING_RATE,\n",
    "  num_train_steps=num_train_steps,\n",
    "  num_warmup_steps=num_warmup_steps)\n",
    "\n",
    "estimator = tf.estimator.Estimator(\n",
    "  model_fn=model_fn,\n",
    "  config=run_config,\n",
    "  params={\"batch_size\": BATCH_SIZE})\n"
   ],
   "outputs": [],
   "metadata": {
    "colab": {
     "base_uri": "https://localhost:8080/",
     "height": 275
    },
    "id": "zHlZKcq7HMzE",
    "outputId": "9c5ee0bf-d111-48f2-be4d-c01362521b6e"
   }
  },
  {
   "cell_type": "code",
   "execution_count": 167,
   "source": [
    "# Create an input function for training. drop_remainder = True for using TPUs.\n",
    "train_input_fn = bert.run_classifier.input_fn_builder(\n",
    "    features=train_features,\n",
    "    seq_length=MAX_SEQ_LENGTH,\n",
    "    is_training=True,\n",
    "    drop_remainder=False)\n",
    "\n",
    "# Create an input function for validating. drop_remainder = True for using TPUs.\n",
    "val_input_fn = run_classifier.input_fn_builder(\n",
    "    features=val_features,\n",
    "    seq_length=MAX_SEQ_LENGTH,\n",
    "    is_training=False,\n",
    "    drop_remainder=False)"
   ],
   "outputs": [],
   "metadata": {
    "id": "05KBWhqeHUIF"
   }
  },
  {
   "cell_type": "markdown",
   "source": [
    "# BERT: Fine Tuning Training & Evaluating"
   ],
   "metadata": {
    "id": "Lm0AubBnhEst"
   }
  },
  {
   "cell_type": "code",
   "execution_count": 168,
   "source": [
    "#Training the model\n",
    "print(f'Beginning Training!')\n",
    "current_time = datetime.now()\n",
    "estimator.train(input_fn=train_input_fn, max_steps=num_train_steps)\n",
    "print(\"Training took time \", datetime.now() - current_time)"
   ],
   "outputs": [
    {
     "output_type": "stream",
     "name": "stdout",
     "text": [
      "Beginning Training!\n"
     ]
    },
    {
     "output_type": "stream",
     "name": "stderr",
     "text": [
      "/home/komleva/anaconda3/envs/torchtext/lib/python3.7/site-packages/tensorflow_core/python/framework/indexed_slices.py:424: UserWarning: Converting sparse IndexedSlices to a dense Tensor of unknown shape. This may consume a large amount of memory.\n",
      "  \"Converting sparse IndexedSlices to a dense Tensor of unknown shape. \"\n"
     ]
    },
    {
     "output_type": "stream",
     "name": "stdout",
     "text": [
      "Training took time  0:25:52.535158\n"
     ]
    }
   ],
   "metadata": {
    "colab": {
     "base_uri": "https://localhost:8080/",
     "height": 1000
    },
    "id": "JUhCik-iHj9o",
    "outputId": "6a44d761-e385-415f-bdc6-343c038adf67"
   }
  },
  {
   "cell_type": "markdown",
   "source": [
    "The accuracy for the fine tuned BERT model"
   ],
   "metadata": {
    "id": "b-EFK3DS0qkm"
   }
  },
  {
   "cell_type": "code",
   "execution_count": 169,
   "source": [
    "#Evaluating the model with Validation set\n",
    "estimator.evaluate(input_fn=val_input_fn, steps=None)"
   ],
   "outputs": [
    {
     "output_type": "stream",
     "name": "stderr",
     "text": [
      "/home/komleva/anaconda3/envs/torchtext/lib/python3.7/site-packages/tensorflow_core/python/framework/indexed_slices.py:424: UserWarning: Converting sparse IndexedSlices to a dense Tensor of unknown shape. This may consume a large amount of memory.\n",
      "  \"Converting sparse IndexedSlices to a dense Tensor of unknown shape. \"\n"
     ]
    },
    {
     "output_type": "execute_result",
     "data": {
      "text/plain": [
       "{'eval_accuracy': 0.7998267,\n",
       " 'false_negatives': 73.0,\n",
       " 'false_positives': 104.0,\n",
       " 'loss': 0.55226713,\n",
       " 'true_negatives': 50.0,\n",
       " 'true_positives': 927.0,\n",
       " 'global_step': 288}"
      ]
     },
     "metadata": {},
     "execution_count": 169
    }
   ],
   "metadata": {
    "colab": {
     "base_uri": "https://localhost:8080/",
     "height": 190
    },
    "id": "HSQxiqDPHrJy",
    "outputId": "c9705bcc-c7c3-41fa-99e2-0f6e8f446160"
   }
  },
  {
   "cell_type": "code",
   "execution_count": 170,
   "source": [
    "#! pip install https://storage.googleapis.com/tensorflow/mac/cpu/tensorflow-1.8.0-py3-none-any.whl\n"
   ],
   "outputs": [],
   "metadata": {}
  },
  {
   "cell_type": "markdown",
   "source": [
    "# BERT: Get The Vector Transformations from the Fine Tuned BERT"
   ],
   "metadata": {
    "id": "ubX4mo7ahbZI"
   }
  },
  {
   "cell_type": "code",
   "execution_count": 171,
   "source": [
    "# A method to get predictions\n",
    "def getPrediction(in_sentences, type_output = \"features\"):\n",
    "  #A list to map the actual labels to the predictions\n",
    "  labels = np.unique(train['label'])\n",
    "  input_examples = [run_classifier.InputExample(guid=\"\", text_a = x, text_b = None, label = 0) for x in in_sentences] \n",
    "  input_features = run_classifier.convert_examples_to_features(input_examples, label_list, MAX_SEQ_LENGTH, tokenizer)\n",
    "  #Predicting the classes \n",
    "  predict_input_fn = run_classifier.input_fn_builder(features=input_features, seq_length=MAX_SEQ_LENGTH, is_training=False, drop_remainder=False)\n",
    "  predictions = estimator.predict(predict_input_fn)\n",
    "  if type_output == \"features\":\n",
    "    return [prediction['pooled_output'] for _,prediction in enumerate(predictions) ]\n",
    "  else:\n",
    "    return ([(sentence, prediction['probabilities'],\n",
    "              prediction['labels'], labels[prediction['labels']]) for sentence, prediction in zip(in_sentences, predictions)])\n"
   ],
   "outputs": [],
   "metadata": {
    "id": "7B114QMlVwMm"
   }
  },
  {
   "cell_type": "code",
   "execution_count": 172,
   "source": [
    "tf.compat.v1.logging.set_verbosity(tf.logging.ERROR)\n",
    "MAX_SEQ_LENGTH"
   ],
   "outputs": [
    {
     "output_type": "execute_result",
     "data": {
      "text/plain": [
       "200"
      ]
     },
     "metadata": {},
     "execution_count": 172
    }
   ],
   "metadata": {
    "colab": {
     "base_uri": "https://localhost:8080/",
     "height": 34
    },
    "id": "WKpDMg-nV-yZ",
    "outputId": "af7b21e9-a87c-4de6-8168-6109991f4154"
   }
  },
  {
   "cell_type": "code",
   "execution_count": 173,
   "source": [
    "train_df.shape, val_df.shape"
   ],
   "outputs": [
    {
     "output_type": "execute_result",
     "data": {
      "text/plain": [
       "((4623, 2), (1154, 2))"
      ]
     },
     "metadata": {},
     "execution_count": 173
    }
   ],
   "metadata": {
    "colab": {
     "base_uri": "https://localhost:8080/",
     "height": 34
    },
    "id": "EjRdLdqj-mpo",
    "outputId": "4f388f8d-e19b-42fa-fae2-74ce196c37ef"
   }
  },
  {
   "cell_type": "markdown",
   "source": [
    "Now extracting the representations:"
   ],
   "metadata": {
    "id": "m4Q7Ih3nmNXh"
   }
  },
  {
   "cell_type": "code",
   "execution_count": 174,
   "source": [
    "%%time\n",
    "tr_emb = np.apply_along_axis(getPrediction, 0,np.array(train_df[DATA_COLUMN]))\n"
   ],
   "outputs": [
    {
     "output_type": "stream",
     "name": "stdout",
     "text": [
      "CPU times: user 7h 26min 51s, sys: 38min 6s, total: 8h 4min 58s\n",
      "Wall time: 6min 8s\n"
     ]
    }
   ],
   "metadata": {
    "colab": {
     "base_uri": "https://localhost:8080/",
     "height": 51
    },
    "id": "2z3hwrsaWECM",
    "outputId": "77174d69-c6ce-496d-d0c0-de79357db931"
   }
  },
  {
   "cell_type": "code",
   "execution_count": 175,
   "source": [
    "%%time\n",
    "val_emb = np.apply_along_axis(getPrediction, 0,np.array(val_df[DATA_COLUMN]))\n",
    "val_emb.shape"
   ],
   "outputs": [
    {
     "output_type": "stream",
     "name": "stdout",
     "text": [
      "CPU times: user 1h 51min 54s, sys: 9min 12s, total: 2h 1min 6s\n",
      "Wall time: 1min 34s\n"
     ]
    },
    {
     "output_type": "execute_result",
     "data": {
      "text/plain": [
       "(1154, 768)"
      ]
     },
     "metadata": {},
     "execution_count": 175
    }
   ],
   "metadata": {
    "colab": {
     "base_uri": "https://localhost:8080/",
     "height": 51
    },
    "id": "bw6nDeP2WR_u",
    "outputId": "fa1031d3-00f3-443d-ff63-60234d0c9375"
   }
  },
  {
   "cell_type": "code",
   "execution_count": 176,
   "source": [
    "val_emb.shape, tr_emb.shape"
   ],
   "outputs": [
    {
     "output_type": "execute_result",
     "data": {
      "text/plain": [
       "((1154, 768), (4623, 768))"
      ]
     },
     "metadata": {},
     "execution_count": 176
    }
   ],
   "metadata": {
    "colab": {
     "base_uri": "https://localhost:8080/",
     "height": 34
    },
    "id": "BQbVWlptWUGE",
    "outputId": "1eca64c4-d696-4f8b-e154-e2d4bb8f1b2b"
   }
  },
  {
   "cell_type": "markdown",
   "source": [
    "and make the dataset for train and val:"
   ],
   "metadata": {
    "id": "AbIDKTbw8lOt"
   }
  },
  {
   "cell_type": "code",
   "execution_count": 177,
   "source": [
    "aux = -1\n",
    "len_l = 0\n",
    "train_x = {}\n",
    "for l, emb in zip(index_l, tr_emb):\n",
    "  if l in train_x.keys():\n",
    "    train_x[l]  =np.vstack([train_x[l], emb])\n",
    "  else:\n",
    "    train_x[l] = [emb]\n",
    "\n",
    "len(train_x.keys())\n"
   ],
   "outputs": [
    {
     "output_type": "execute_result",
     "data": {
      "text/plain": [
       "3760"
      ]
     },
     "metadata": {},
     "execution_count": 177
    }
   ],
   "metadata": {
    "colab": {
     "base_uri": "https://localhost:8080/",
     "height": 34
    },
    "id": "4bBZiJG6hEdU",
    "outputId": "24cdb344-81c4-4ebc-8967-cc8c746fa40c"
   }
  },
  {
   "cell_type": "code",
   "execution_count": 178,
   "source": [
    "train_l_final = []\n",
    "label_l_final = []\n",
    "for k in train_x.keys():\n",
    "  train_l_final.append(train_x[k])\n",
    "  label_l_final.append(train.loc[k]['label'])\n",
    "\n",
    "df_train = pd.DataFrame({'emb': train_l_final, 'label': label_l_final, })\n",
    "df_train.head()"
   ],
   "outputs": [
    {
     "output_type": "execute_result",
     "data": {
      "text/plain": [
       "                                                 emb  label\n",
       "0  [[0.50509787, -0.122917235, 0.88433576, 0.0955...      3\n",
       "1  [[0.5403556, 0.07508825, 0.80675274, 0.4831976...      3\n",
       "2  [[0.5257652, -0.10080789, 0.83823156, 0.431485...      3\n",
       "3  [[0.45012447, 0.04453288, 0.90325177, 0.316509...      3\n",
       "4  [[0.38010636, -0.11642724, 0.96094316, 0.15046...      3"
      ],
      "text/html": [
       "<div>\n",
       "<style scoped>\n",
       "    .dataframe tbody tr th:only-of-type {\n",
       "        vertical-align: middle;\n",
       "    }\n",
       "\n",
       "    .dataframe tbody tr th {\n",
       "        vertical-align: top;\n",
       "    }\n",
       "\n",
       "    .dataframe thead th {\n",
       "        text-align: right;\n",
       "    }\n",
       "</style>\n",
       "<table border=\"1\" class=\"dataframe\">\n",
       "  <thead>\n",
       "    <tr style=\"text-align: right;\">\n",
       "      <th></th>\n",
       "      <th>emb</th>\n",
       "      <th>label</th>\n",
       "    </tr>\n",
       "  </thead>\n",
       "  <tbody>\n",
       "    <tr>\n",
       "      <th>0</th>\n",
       "      <td>[[0.50509787, -0.122917235, 0.88433576, 0.0955...</td>\n",
       "      <td>3</td>\n",
       "    </tr>\n",
       "    <tr>\n",
       "      <th>1</th>\n",
       "      <td>[[0.5403556, 0.07508825, 0.80675274, 0.4831976...</td>\n",
       "      <td>3</td>\n",
       "    </tr>\n",
       "    <tr>\n",
       "      <th>2</th>\n",
       "      <td>[[0.5257652, -0.10080789, 0.83823156, 0.431485...</td>\n",
       "      <td>3</td>\n",
       "    </tr>\n",
       "    <tr>\n",
       "      <th>3</th>\n",
       "      <td>[[0.45012447, 0.04453288, 0.90325177, 0.316509...</td>\n",
       "      <td>3</td>\n",
       "    </tr>\n",
       "    <tr>\n",
       "      <th>4</th>\n",
       "      <td>[[0.38010636, -0.11642724, 0.96094316, 0.15046...</td>\n",
       "      <td>3</td>\n",
       "    </tr>\n",
       "  </tbody>\n",
       "</table>\n",
       "</div>"
      ]
     },
     "metadata": {},
     "execution_count": 178
    }
   ],
   "metadata": {
    "colab": {
     "base_uri": "https://localhost:8080/",
     "height": 204
    },
    "id": "Oq2tpvrUkyoa",
    "outputId": "f04c8fd6-c478-4cb3-a6d9-a3853a2b841c"
   }
  },
  {
   "cell_type": "code",
   "execution_count": 179,
   "source": [
    "aux = -1\n",
    "len_l = 0\n",
    "val_x = {}\n",
    "\n",
    "for l, emb in zip(val_index_l, val_emb):\n",
    "  if l in val_x.keys():\n",
    "    val_x[l]  =np.vstack([val_x[l], emb])\n",
    "  else:\n",
    "    val_x[l] = [emb]\n",
    "\n",
    "\n",
    "val_l_final = []\n",
    "vlabel_l_final = []\n",
    "for k in val_x.keys():\n",
    "  val_l_final.append(val_x[k])\n",
    "  vlabel_l_final.append(val.loc[k]['label'])\n",
    "\n",
    "df_val = pd.DataFrame({'emb': val_l_final, 'label': vlabel_l_final})\n",
    "df_val.head()"
   ],
   "outputs": [
    {
     "output_type": "execute_result",
     "data": {
      "text/plain": [
       "                                                 emb  label\n",
       "0  [[0.52215177, 0.21213302, 0.9069279, 0.3265816...      3\n",
       "1  [[0.41261834, 0.012177956, 0.9348166, 0.254106...      3\n",
       "2  [[0.44188797, -0.060664732, 0.9067899, 0.22350...      3\n",
       "3  [[0.5136896, 0.084379256, 0.9371997, 0.2767630...      3\n",
       "4  [[0.84879386, -0.30391622, -0.08012636, -0.439...      2"
      ],
      "text/html": [
       "<div>\n",
       "<style scoped>\n",
       "    .dataframe tbody tr th:only-of-type {\n",
       "        vertical-align: middle;\n",
       "    }\n",
       "\n",
       "    .dataframe tbody tr th {\n",
       "        vertical-align: top;\n",
       "    }\n",
       "\n",
       "    .dataframe thead th {\n",
       "        text-align: right;\n",
       "    }\n",
       "</style>\n",
       "<table border=\"1\" class=\"dataframe\">\n",
       "  <thead>\n",
       "    <tr style=\"text-align: right;\">\n",
       "      <th></th>\n",
       "      <th>emb</th>\n",
       "      <th>label</th>\n",
       "    </tr>\n",
       "  </thead>\n",
       "  <tbody>\n",
       "    <tr>\n",
       "      <th>0</th>\n",
       "      <td>[[0.52215177, 0.21213302, 0.9069279, 0.3265816...</td>\n",
       "      <td>3</td>\n",
       "    </tr>\n",
       "    <tr>\n",
       "      <th>1</th>\n",
       "      <td>[[0.41261834, 0.012177956, 0.9348166, 0.254106...</td>\n",
       "      <td>3</td>\n",
       "    </tr>\n",
       "    <tr>\n",
       "      <th>2</th>\n",
       "      <td>[[0.44188797, -0.060664732, 0.9067899, 0.22350...</td>\n",
       "      <td>3</td>\n",
       "    </tr>\n",
       "    <tr>\n",
       "      <th>3</th>\n",
       "      <td>[[0.5136896, 0.084379256, 0.9371997, 0.2767630...</td>\n",
       "      <td>3</td>\n",
       "    </tr>\n",
       "    <tr>\n",
       "      <th>4</th>\n",
       "      <td>[[0.84879386, -0.30391622, -0.08012636, -0.439...</td>\n",
       "      <td>2</td>\n",
       "    </tr>\n",
       "  </tbody>\n",
       "</table>\n",
       "</div>"
      ]
     },
     "metadata": {},
     "execution_count": 179
    }
   ],
   "metadata": {
    "colab": {
     "base_uri": "https://localhost:8080/",
     "height": 204
    },
    "id": "cnjcaZHqk6rf",
    "outputId": "b66be414-0f35-484f-a3e7-5b5b513d3e67"
   }
  },
  {
   "cell_type": "code",
   "execution_count": 180,
   "source": [
    "df_val, df_test = train_test_split(df_val, test_size=0.4, random_state=35)"
   ],
   "outputs": [],
   "metadata": {
    "id": "VMDe3KvcIM5q"
   }
  },
  {
   "cell_type": "markdown",
   "source": [
    "# LSTM: Creating the Final Model"
   ],
   "metadata": {
    "id": "rzIznwgQiD6x"
   }
  },
  {
   "cell_type": "code",
   "execution_count": 181,
   "source": [
    "from keras import layers\n",
    "text_input = Input(shape=(None,768,), dtype='float32', name='text')\n",
    "\n",
    "l_mask = layers.Masking(mask_value=-99.)(text_input)\n",
    "# Which we encoded in a single vector via a LSTM\n",
    "encoded_text = layers.LSTM(100,)(l_mask)\n",
    "out_dense = layers.Dense(30, activation='relu')(encoded_text)\n",
    "# And we add a softmax classifier on top\n",
    "out = layers.Dense(len(label_list), activation='softmax')(out_dense)\n",
    "# At model instantiation, we specify the input and the output:\n",
    "model = Model(text_input, out)\n",
    "model.compile(optimizer='adam',\n",
    "              loss='sparse_categorical_crossentropy',\n",
    "              metrics=['acc'])\n",
    "model.summary()"
   ],
   "outputs": [
    {
     "output_type": "stream",
     "name": "stdout",
     "text": [
      "Model: \"model_3\"\n",
      "_________________________________________________________________\n",
      "Layer (type)                 Output Shape              Param #   \n",
      "=================================================================\n",
      "text (InputLayer)            (None, None, 768)         0         \n",
      "_________________________________________________________________\n",
      "masking_3 (Masking)          (None, None, 768)         0         \n",
      "_________________________________________________________________\n",
      "lstm_3 (LSTM)                (None, 100)               347600    \n",
      "_________________________________________________________________\n",
      "dense_5 (Dense)              (None, 30)                3030      \n",
      "_________________________________________________________________\n",
      "dense_6 (Dense)              (None, 4)                 124       \n",
      "=================================================================\n",
      "Total params: 350,754\n",
      "Trainable params: 350,754\n",
      "Non-trainable params: 0\n",
      "_________________________________________________________________\n"
     ]
    }
   ],
   "metadata": {
    "colab": {
     "base_uri": "https://localhost:8080/",
     "height": 323
    },
    "id": "260A5YvElD2D",
    "outputId": "f57ea208-93e2-460f-c40f-eff2cddf84a9"
   }
  },
  {
   "cell_type": "code",
   "execution_count": 182,
   "source": [
    "df_train.shape, df_val.shape, df_test.shape"
   ],
   "outputs": [
    {
     "output_type": "execute_result",
     "data": {
      "text/plain": [
       "((3760, 2), (564, 2), (377, 2))"
      ]
     },
     "metadata": {},
     "execution_count": 182
    }
   ],
   "metadata": {
    "colab": {
     "base_uri": "https://localhost:8080/",
     "height": 34
    },
    "id": "_SR7cUPRlvNg",
    "outputId": "da689c92-5825-4297-9448-051def60e82b"
   }
  },
  {
   "cell_type": "markdown",
   "source": [
    "The generator functions:"
   ],
   "metadata": {
    "id": "3z6awGncq9wB"
   }
  },
  {
   "cell_type": "code",
   "execution_count": 183,
   "source": [
    "def train_generator(df):\n",
    "    x_list= df['emb'].to_list()\n",
    "    y_list =  df.label.to_list()\n",
    "    # Generate batches\n",
    "    while True:\n",
    "        for b in range(batches_per_epoch):\n",
    "            longest_index = (b + 1) * batch_size - 1\n",
    "            timesteps = len(max(df['emb'].to_list()[:(b + 1) * batch_size][-batch_size:], key=len))\n",
    "            x_train = np.full((batch_size, timesteps, num_features), -99.)\n",
    "            y_train = np.zeros((batch_size,  1))\n",
    "            \n",
    "            for i in range(batch_size):\n",
    "                li = b * batch_size + i\n",
    "                x_train[i, 0:len(x_list[li]), :] = x_list[li]\n",
    "                y_train[i] = y_list[li]\n",
    "            yield x_train, y_train"
   ],
   "outputs": [],
   "metadata": {}
  },
  {
   "cell_type": "code",
   "execution_count": 191,
   "source": [
    "from tensorflow.python.compiler.tensorrt import trt_convert as trt\n",
    "\n",
    "\n",
    "\n",
    "num_sequences = len(df_train['emb'].to_list())\n",
    "print(num_sequences)\n",
    "batch_size = 5\n",
    "batches_per_epoch =  752\n",
    "\n",
    "assert batch_size * batches_per_epoch == num_sequences\n",
    "num_features= 768\n"
   ],
   "outputs": [
    {
     "output_type": "stream",
     "name": "stdout",
     "text": [
      "3760\n"
     ]
    }
   ],
   "metadata": {
    "id": "5vAf9GmGlSnm"
   }
  },
  {
   "cell_type": "code",
   "execution_count": 194,
   "source": [
    "num_sequences_val = len(df_val['emb'].to_list())\n",
    "print(num_sequences_val)\n",
    "batch_size_val = 12\n",
    "batches_per_epoch_val = 47\n",
    "assert batch_size_val * batches_per_epoch_val == num_sequences_val\n",
    "num_features= 768\n",
    "def val_generator(df):\n",
    "    x_list= df['emb'].to_list()\n",
    "    y_list =  df.label.to_list()\n",
    "    # Generate batches\n",
    "    while True:\n",
    "        for b in range(batches_per_epoch_val):\n",
    "            longest_index = (b + 1) * batch_size_val - 1\n",
    "            timesteps = len(max(df['emb'].to_list()[:(b + 1) * batch_size_val][-31:], key=len))\n",
    "            # print(len(df_train['emb'].to_list()[:b+batch_size][-7:]))\n",
    "            x_train = np.full((batch_size_val, timesteps, num_features), -99.)\n",
    "            y_train = np.zeros((batch_size_val,  1))\n",
    "            for i in range(batch_size_val):\n",
    "                li = b * batch_size_val + i\n",
    "                # print(\"li\", li)\n",
    "                # print(x_train[i, 0:len(x_list[li]), :].shape, len(x_list[li]))\n",
    "                x_train[i, 0:len(x_list[li]), :] = x_list[li]\n",
    "                y_train[i] = y_list[li]\n",
    "            yield x_train, y_train"
   ],
   "outputs": [
    {
     "output_type": "stream",
     "name": "stdout",
     "text": [
      "564\n"
     ]
    }
   ],
   "metadata": {
    "id": "ezFSiXl_meEo"
   }
  },
  {
   "cell_type": "markdown",
   "source": [
    "# LSTM Final Model: Training"
   ],
   "metadata": {
    "id": "jVw-FcrrjEMW"
   }
  },
  {
   "cell_type": "code",
   "execution_count": 196,
   "source": [
    "from keras.callbacks import ReduceLROnPlateau\n",
    "call_reduce = ReduceLROnPlateau(monitor='val_acc', factor=0.95, patience=3, verbose=2,\n",
    "                                mode='auto', min_delta=0.01, cooldown=0, min_lr=0)"
   ],
   "outputs": [],
   "metadata": {
    "id": "FsT12SSbmzAl"
   }
  },
  {
   "cell_type": "code",
   "execution_count": 197,
   "source": [
    "model.fit_generator(train_generator(df_train), steps_per_epoch=batches_per_epoch, epochs=10,\n",
    "                    validation_data=val_generator(df_val), validation_steps=batches_per_epoch_val, callbacks =[call_reduce] )"
   ],
   "outputs": [
    {
     "output_type": "stream",
     "name": "stdout",
     "text": [
      "Epoch 1/10\n",
      "752/752 [==============================] - 5s 7ms/step - loss: 0.3929 - acc: 0.8649 - val_loss: 0.0822 - val_acc: 0.8227\n",
      "Epoch 2/10\n",
      "752/752 [==============================] - 5s 7ms/step - loss: 0.3882 - acc: 0.8668 - val_loss: 0.0813 - val_acc: 0.8262\n",
      "Epoch 3/10\n",
      "752/752 [==============================] - 5s 7ms/step - loss: 0.3862 - acc: 0.8681 - val_loss: 0.0759 - val_acc: 0.8262\n",
      "Epoch 4/10\n",
      "752/752 [==============================] - 5s 7ms/step - loss: 0.3850 - acc: 0.8697 - val_loss: 0.0765 - val_acc: 0.8262\n",
      "\n",
      "Epoch 00004: ReduceLROnPlateau reducing learning rate to 0.0009500000451225787.\n",
      "Epoch 5/10\n",
      "752/752 [==============================] - 5s 7ms/step - loss: 0.3794 - acc: 0.8718 - val_loss: 0.0845 - val_acc: 0.8262\n",
      "Epoch 6/10\n",
      "752/752 [==============================] - 5s 7ms/step - loss: 0.3757 - acc: 0.8739 - val_loss: 0.0884 - val_acc: 0.8262\n",
      "Epoch 7/10\n",
      "752/752 [==============================] - 5s 7ms/step - loss: 0.3737 - acc: 0.8761 - val_loss: 0.0882 - val_acc: 0.8298\n",
      "\n",
      "Epoch 00007: ReduceLROnPlateau reducing learning rate to 0.0009025000152178108.\n",
      "Epoch 8/10\n",
      "752/752 [==============================] - 5s 7ms/step - loss: 0.3713 - acc: 0.8785 - val_loss: 0.0888 - val_acc: 0.8298\n",
      "Epoch 9/10\n",
      "752/752 [==============================] - 5s 7ms/step - loss: 0.3703 - acc: 0.8766 - val_loss: 0.0828 - val_acc: 0.8262\n",
      "Epoch 10/10\n",
      "752/752 [==============================] - 5s 7ms/step - loss: 0.3679 - acc: 0.8782 - val_loss: 0.0830 - val_acc: 0.8280\n",
      "\n",
      "Epoch 00010: ReduceLROnPlateau reducing learning rate to 0.0008573750033974647.\n"
     ]
    },
    {
     "output_type": "execute_result",
     "data": {
      "text/plain": [
       "<keras.callbacks.callbacks.History at 0x7f0a7ac0cb50>"
      ]
     },
     "metadata": {},
     "execution_count": 197
    }
   ],
   "metadata": {
    "colab": {
     "base_uri": "https://localhost:8080/",
     "height": 476
    },
    "id": "bDysNyfIm7Em",
    "outputId": "8b4e9e52-ff19-44a7-b2dc-e7a2bafd681f"
   }
  },
  {
   "cell_type": "markdown",
   "source": [
    "# LSTM Final Model: Evaluation\n",
    "\n"
   ],
   "metadata": {
    "id": "6h_RWqTXjMZX"
   }
  },
  {
   "cell_type": "code",
   "execution_count": null,
   "source": [
    "num_sequences_val = len(df_test['emb'].to_list())\n",
    "batch_size_val = 4\n",
    "batches_per_epoch_val = 343\n",
    "assert batch_size_val * batches_per_epoch_val == num_sequences_val\n",
    "num_features= 768\n",
    "model.evaluate_generator(val_generator(df_test), steps= batches_per_epoch_val)"
   ],
   "outputs": [
    {
     "output_type": "execute_result",
     "data": {
      "text/plain": [
       "[0.41612950315069047, 0.8731778425655977]"
      ]
     },
     "metadata": {
      "tags": []
     },
     "execution_count": 85
    }
   ],
   "metadata": {
    "colab": {
     "base_uri": "https://localhost:8080/",
     "height": 34
    },
    "id": "UfXOHliiNzDT",
    "outputId": "b88421b2-936a-45cc-c472-23d0154a16fa"
   }
  }
 ],
 "metadata": {
  "accelerator": "GPU",
  "colab": {
   "collapsed_sections": [],
   "machine_shape": "hm",
   "name": "bert_clasifier.ipynb\"",
   "provenance": []
  },
  "interpreter": {
   "hash": "a524880a5bb876edaae9b7b15baff302663c5354b3341491bbd2f8257d44506d"
  },
  "kernelspec": {
   "name": "python3",
   "display_name": "Python 3.7.11 64-bit"
  },
  "language_info": {
   "name": "python",
   "version": "3.7.11",
   "mimetype": "text/x-python",
   "codemirror_mode": {
    "name": "ipython",
    "version": 3
   },
   "pygments_lexer": "ipython3",
   "nbconvert_exporter": "python",
   "file_extension": ".py"
  }
 },
 "nbformat": 4,
 "nbformat_minor": 2
}